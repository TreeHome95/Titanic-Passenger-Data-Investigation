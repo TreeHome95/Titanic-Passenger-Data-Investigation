{
 "cells": [
  {
   "cell_type": "markdown",
   "metadata": {},
   "source": [
    "# Titanic Dataset Investigation"
   ]
  },
  {
   "cell_type": "markdown",
   "metadata": {},
   "source": [
    "<p>Welcome to my investigation of this Titanic Dataset. In this notebook I will explain some information about this dataset, ask some questions, and explore this dataset for those answers. I hope you’re able to enjoy as well as get some information out of this exploration. Let’s get started!</p>"
   ]
  },
  {
   "cell_type": "markdown",
   "metadata": {},
   "source": [
    "## Examining Dataset, Adjusting Datatypes, and Missing Values"
   ]
  },
  {
   "cell_type": "markdown",
   "metadata": {},
   "source": [
    "First I will want to retrieve the data from the csv file. This can be done using Pandas `read_csv()` function. This function will read the data from the csv file and write it onto a Pandas dataframe. To test if this was successful, I will make use of the `.head()` function to display a preview of the dataframe."
   ]
  },
  {
   "cell_type": "code",
   "execution_count": 1,
   "metadata": {},
   "outputs": [
    {
     "data": {
      "text/html": [
       "<div>\n",
       "<style>\n",
       "    .dataframe thead tr:only-child th {\n",
       "        text-align: right;\n",
       "    }\n",
       "\n",
       "    .dataframe thead th {\n",
       "        text-align: left;\n",
       "    }\n",
       "\n",
       "    .dataframe tbody tr th {\n",
       "        vertical-align: top;\n",
       "    }\n",
       "</style>\n",
       "<table border=\"1\" class=\"dataframe\">\n",
       "  <thead>\n",
       "    <tr style=\"text-align: right;\">\n",
       "      <th></th>\n",
       "      <th>PassengerId</th>\n",
       "      <th>Survived</th>\n",
       "      <th>Pclass</th>\n",
       "      <th>Name</th>\n",
       "      <th>Sex</th>\n",
       "      <th>Age</th>\n",
       "      <th>SibSp</th>\n",
       "      <th>Parch</th>\n",
       "      <th>Ticket</th>\n",
       "      <th>Fare</th>\n",
       "      <th>Cabin</th>\n",
       "      <th>Embarked</th>\n",
       "    </tr>\n",
       "  </thead>\n",
       "  <tbody>\n",
       "    <tr>\n",
       "      <th>0</th>\n",
       "      <td>1</td>\n",
       "      <td>0</td>\n",
       "      <td>3</td>\n",
       "      <td>Braund, Mr. Owen Harris</td>\n",
       "      <td>male</td>\n",
       "      <td>22.0</td>\n",
       "      <td>1</td>\n",
       "      <td>0</td>\n",
       "      <td>A/5 21171</td>\n",
       "      <td>7.2500</td>\n",
       "      <td>NaN</td>\n",
       "      <td>S</td>\n",
       "    </tr>\n",
       "    <tr>\n",
       "      <th>1</th>\n",
       "      <td>2</td>\n",
       "      <td>1</td>\n",
       "      <td>1</td>\n",
       "      <td>Cumings, Mrs. John Bradley (Florence Briggs Th...</td>\n",
       "      <td>female</td>\n",
       "      <td>38.0</td>\n",
       "      <td>1</td>\n",
       "      <td>0</td>\n",
       "      <td>PC 17599</td>\n",
       "      <td>71.2833</td>\n",
       "      <td>C85</td>\n",
       "      <td>C</td>\n",
       "    </tr>\n",
       "    <tr>\n",
       "      <th>2</th>\n",
       "      <td>3</td>\n",
       "      <td>1</td>\n",
       "      <td>3</td>\n",
       "      <td>Heikkinen, Miss. Laina</td>\n",
       "      <td>female</td>\n",
       "      <td>26.0</td>\n",
       "      <td>0</td>\n",
       "      <td>0</td>\n",
       "      <td>STON/O2. 3101282</td>\n",
       "      <td>7.9250</td>\n",
       "      <td>NaN</td>\n",
       "      <td>S</td>\n",
       "    </tr>\n",
       "    <tr>\n",
       "      <th>3</th>\n",
       "      <td>4</td>\n",
       "      <td>1</td>\n",
       "      <td>1</td>\n",
       "      <td>Futrelle, Mrs. Jacques Heath (Lily May Peel)</td>\n",
       "      <td>female</td>\n",
       "      <td>35.0</td>\n",
       "      <td>1</td>\n",
       "      <td>0</td>\n",
       "      <td>113803</td>\n",
       "      <td>53.1000</td>\n",
       "      <td>C123</td>\n",
       "      <td>S</td>\n",
       "    </tr>\n",
       "    <tr>\n",
       "      <th>4</th>\n",
       "      <td>5</td>\n",
       "      <td>0</td>\n",
       "      <td>3</td>\n",
       "      <td>Allen, Mr. William Henry</td>\n",
       "      <td>male</td>\n",
       "      <td>35.0</td>\n",
       "      <td>0</td>\n",
       "      <td>0</td>\n",
       "      <td>373450</td>\n",
       "      <td>8.0500</td>\n",
       "      <td>NaN</td>\n",
       "      <td>S</td>\n",
       "    </tr>\n",
       "  </tbody>\n",
       "</table>\n",
       "</div>"
      ],
      "text/plain": [
       "   PassengerId  Survived  Pclass  \\\n",
       "0            1         0       3   \n",
       "1            2         1       1   \n",
       "2            3         1       3   \n",
       "3            4         1       1   \n",
       "4            5         0       3   \n",
       "\n",
       "                                                Name     Sex   Age  SibSp  \\\n",
       "0                            Braund, Mr. Owen Harris    male  22.0      1   \n",
       "1  Cumings, Mrs. John Bradley (Florence Briggs Th...  female  38.0      1   \n",
       "2                             Heikkinen, Miss. Laina  female  26.0      0   \n",
       "3       Futrelle, Mrs. Jacques Heath (Lily May Peel)  female  35.0      1   \n",
       "4                           Allen, Mr. William Henry    male  35.0      0   \n",
       "\n",
       "   Parch            Ticket     Fare Cabin Embarked  \n",
       "0      0         A/5 21171   7.2500   NaN        S  \n",
       "1      0          PC 17599  71.2833   C85        C  \n",
       "2      0  STON/O2. 3101282   7.9250   NaN        S  \n",
       "3      0            113803  53.1000  C123        S  \n",
       "4      0            373450   8.0500   NaN        S  "
      ]
     },
     "execution_count": 1,
     "metadata": {},
     "output_type": "execute_result"
    }
   ],
   "source": [
    "import pandas as pd\n",
    "titanic_data = pd.read_csv('titanic-data.csv')\n",
    "titanic_data.head()"
   ]
  },
  {
   "cell_type": "markdown",
   "metadata": {},
   "source": [
    "<p>As you can see this titanic dataset consists of 12 columns and over 800 rows. According to Kaggle, some of these columns are the following:<p>"
   ]
  },
  {
   "cell_type": "markdown",
   "metadata": {},
   "source": [
    "<dl>\n",
    "  <dt>Survived</dt>\n",
    "  <dd>0 = No, 1 = Yes</dd>\n",
    "\n",
    "  <dt>Pclass</dt>\n",
    "  <dd>Ticket class, 1 = first class, 2 = second class, and 3 = third class</dd>\n",
    "\n",
    "  <dt>Age</dt>\n",
    "  <dd>Age in years</dd>\n",
    "\n",
    "  <dt>Sibsp</dt>\n",
    "  <dd># of siblings/spouses aboard the Titanic</dd>\n",
    "\n",
    "  <dt>Parch</dt>\n",
    "  <dd># of parents/children aboard the Titanic</dd>\n",
    "\n",
    "  <dt>Ticket</dt>\n",
    "  <dd>Ticket ID for passenger</dd>\n",
    "\n",
    "  <dt>Fare<dt>\n",
    "  <dd>The amount of money spent for ticket(s)</dd>\n",
    "\n",
    "  <dt>Cabin<dt>\n",
    "  <dd>The cabin number assigned to passenger</dd>\n",
    "\n",
    "  <dt>Embarked</dt>\n",
    "  <dd>The Port at which passengers embarked at. C = Cherbourg, Q = Queentown, S = Southampton</dd>\n",
    " \n",
    "</dl>"
   ]
  },
  {
   "cell_type": "markdown",
   "metadata": {},
   "source": [
    "From the preview I can see already that there are some missing values in the Cabin column category. I want to see if there are anymore so I will be making use of the `info()` function to locate and empty/null values"
   ]
  },
  {
   "cell_type": "code",
   "execution_count": 2,
   "metadata": {},
   "outputs": [
    {
     "name": "stdout",
     "output_type": "stream",
     "text": [
      "<class 'pandas.core.frame.DataFrame'>\n",
      "RangeIndex: 891 entries, 0 to 890\n",
      "Data columns (total 12 columns):\n",
      "PassengerId    891 non-null int64\n",
      "Survived       891 non-null int64\n",
      "Pclass         891 non-null int64\n",
      "Name           891 non-null object\n",
      "Sex            891 non-null object\n",
      "Age            714 non-null float64\n",
      "SibSp          891 non-null int64\n",
      "Parch          891 non-null int64\n",
      "Ticket         891 non-null object\n",
      "Fare           891 non-null float64\n",
      "Cabin          204 non-null object\n",
      "Embarked       889 non-null object\n",
      "dtypes: float64(2), int64(5), object(5)\n",
      "memory usage: 83.6+ KB\n"
     ]
    }
   ],
   "source": [
    "titanic_data.info()"
   ]
  },
  {
   "cell_type": "markdown",
   "metadata": {},
   "source": [
    "The values I noticed that not only the *Cabin* column contained missing values, but the *Age* and *Embarked* as well. I want to understand why the cabin values are empty and replace the missing age values, with the mean for the age. While I'm working on this I can also apply some conversions to some values already for my convenience. "
   ]
  },
  {
   "cell_type": "code",
   "execution_count": 4,
   "metadata": {
    "collapsed": true
   },
   "outputs": [],
   "source": [
    "def float_conversion(s): # This will convert columns like fare\n",
    "    return float(s)"
   ]
  },
  {
   "cell_type": "code",
   "execution_count": 5,
   "metadata": {
    "collapsed": true
   },
   "outputs": [],
   "source": [
    "def survived_conversion(s): # This is to convert 0 to 'Died' and 1 to 'Survived'\n",
    "    if s == 0:\n",
    "        return 'Died'\n",
    "    else:\n",
    "        return 'Survived'"
   ]
  },
  {
   "cell_type": "code",
   "execution_count": 6,
   "metadata": {
    "collapsed": true
   },
   "outputs": [],
   "source": [
    "fare_and_cabin_data = titanic_data[['Fare','Cabin']] #This will help to preview the Fare and Cabin Colums"
   ]
  },
  {
   "cell_type": "code",
   "execution_count": 7,
   "metadata": {},
   "outputs": [
    {
     "data": {
      "text/html": [
       "<div>\n",
       "<style>\n",
       "    .dataframe thead tr:only-child th {\n",
       "        text-align: right;\n",
       "    }\n",
       "\n",
       "    .dataframe thead th {\n",
       "        text-align: left;\n",
       "    }\n",
       "\n",
       "    .dataframe tbody tr th {\n",
       "        vertical-align: top;\n",
       "    }\n",
       "</style>\n",
       "<table border=\"1\" class=\"dataframe\">\n",
       "  <thead>\n",
       "    <tr style=\"text-align: right;\">\n",
       "      <th></th>\n",
       "      <th>Fare</th>\n",
       "      <th>Cabin</th>\n",
       "    </tr>\n",
       "  </thead>\n",
       "  <tbody>\n",
       "    <tr>\n",
       "      <th>0</th>\n",
       "      <td>7.2500</td>\n",
       "      <td>NaN</td>\n",
       "    </tr>\n",
       "    <tr>\n",
       "      <th>1</th>\n",
       "      <td>71.2833</td>\n",
       "      <td>C85</td>\n",
       "    </tr>\n",
       "    <tr>\n",
       "      <th>2</th>\n",
       "      <td>7.9250</td>\n",
       "      <td>NaN</td>\n",
       "    </tr>\n",
       "    <tr>\n",
       "      <th>3</th>\n",
       "      <td>53.1000</td>\n",
       "      <td>C123</td>\n",
       "    </tr>\n",
       "    <tr>\n",
       "      <th>4</th>\n",
       "      <td>8.0500</td>\n",
       "      <td>NaN</td>\n",
       "    </tr>\n",
       "  </tbody>\n",
       "</table>\n",
       "</div>"
      ],
      "text/plain": [
       "      Fare Cabin\n",
       "0   7.2500   NaN\n",
       "1  71.2833   C85\n",
       "2   7.9250   NaN\n",
       "3  53.1000  C123\n",
       "4   8.0500   NaN"
      ]
     },
     "execution_count": 7,
     "metadata": {},
     "output_type": "execute_result"
    }
   ],
   "source": [
    "fare_and_cabin_data.head()"
   ]
  },
  {
   "cell_type": "code",
   "execution_count": 8,
   "metadata": {},
   "outputs": [
    {
     "name": "stdout",
     "output_type": "stream",
     "text": [
      "         Fare        Cabin\n",
      "0      7.2500          NaN\n",
      "1     71.2833          C85\n",
      "2      7.9250          NaN\n",
      "3     53.1000         C123\n",
      "4      8.0500          NaN\n",
      "5      8.4583          NaN\n",
      "6     51.8625          E46\n",
      "7     21.0750          NaN\n",
      "8     11.1333          NaN\n",
      "9     30.0708          NaN\n",
      "10    16.7000           G6\n",
      "11    26.5500         C103\n",
      "12     8.0500          NaN\n",
      "13    31.2750          NaN\n",
      "14     7.8542          NaN\n",
      "15    16.0000          NaN\n",
      "16    29.1250          NaN\n",
      "17    13.0000          NaN\n",
      "18    18.0000          NaN\n",
      "19     7.2250          NaN\n",
      "20    26.0000          NaN\n",
      "21    13.0000          D56\n",
      "22     8.0292          NaN\n",
      "23    35.5000           A6\n",
      "24    21.0750          NaN\n",
      "25    31.3875          NaN\n",
      "26     7.2250          NaN\n",
      "27   263.0000  C23 C25 C27\n",
      "28     7.8792          NaN\n",
      "29     7.8958          NaN\n",
      "..        ...          ...\n",
      "861   11.5000          NaN\n",
      "862   25.9292          D17\n",
      "863   69.5500          NaN\n",
      "864   13.0000          NaN\n",
      "865   13.0000          NaN\n",
      "866   13.8583          NaN\n",
      "867   50.4958          A24\n",
      "868    9.5000          NaN\n",
      "869   11.1333          NaN\n",
      "870    7.8958          NaN\n",
      "871   52.5542          D35\n",
      "872    5.0000  B51 B53 B55\n",
      "873    9.0000          NaN\n",
      "874   24.0000          NaN\n",
      "875    7.2250          NaN\n",
      "876    9.8458          NaN\n",
      "877    7.8958          NaN\n",
      "878    7.8958          NaN\n",
      "879   83.1583          C50\n",
      "880   26.0000          NaN\n",
      "881    7.8958          NaN\n",
      "882   10.5167          NaN\n",
      "883   10.5000          NaN\n",
      "884    7.0500          NaN\n",
      "885   29.1250          NaN\n",
      "886   13.0000          NaN\n",
      "887   30.0000          B42\n",
      "888   23.4500          NaN\n",
      "889   30.0000         C148\n",
      "890    7.7500          NaN\n",
      "\n",
      "[891 rows x 2 columns]\n"
     ]
    }
   ],
   "source": [
    "print(fare_and_cabin_data)"
   ]
  },
  {
   "cell_type": "markdown",
   "metadata": {},
   "source": [
    "When looking at the fare and cabin columns I'm unable to find a connection as to the missing cabin values. At first I figured it would have to do with ticket price. This was from seeing the passenger in row 27 paying $263.00 and having 3 cabins. From this one could say that passengers that pay more would have a cabin or cabins. However after noticing row 872, I can see that person payed 5 dollars for their ticket and stayed in not one cabin but three. Using `iloc`, I will be able to get the full information on these passenger."
   ]
  },
  {
   "cell_type": "code",
   "execution_count": 9,
   "metadata": {
    "scrolled": true
   },
   "outputs": [
    {
     "data": {
      "text/plain": [
       "PassengerId                         873\n",
       "Survived                              0\n",
       "Pclass                                1\n",
       "Name           Carlsson, Mr. Frans Olof\n",
       "Sex                                male\n",
       "Age                                  33\n",
       "SibSp                                 0\n",
       "Parch                                 0\n",
       "Ticket                              695\n",
       "Fare                                  5\n",
       "Cabin                       B51 B53 B55\n",
       "Embarked                              S\n",
       "Name: 872, dtype: object"
      ]
     },
     "execution_count": 9,
     "metadata": {},
     "output_type": "execute_result"
    }
   ],
   "source": [
    "titanic_data.iloc[872]"
   ]
  },
  {
   "cell_type": "markdown",
   "metadata": {},
   "source": [
    "From the code above you can see that this passenger was able to get a first class ticket while paying only 5 dollars. Another thing that can be seen is that he had no parents/child or siblings/spouse on board with him. I will now show the passenger in row 27 so I can make comparisons."
   ]
  },
  {
   "cell_type": "code",
   "execution_count": 10,
   "metadata": {},
   "outputs": [
    {
     "data": {
      "text/plain": [
       "PassengerId                                28\n",
       "Survived                                    0\n",
       "Pclass                                      1\n",
       "Name           Fortune, Mr. Charles Alexander\n",
       "Sex                                      male\n",
       "Age                                        19\n",
       "SibSp                                       3\n",
       "Parch                                       2\n",
       "Ticket                                  19950\n",
       "Fare                                      263\n",
       "Cabin                             C23 C25 C27\n",
       "Embarked                                    S\n",
       "Name: 27, dtype: object"
      ]
     },
     "execution_count": 10,
     "metadata": {},
     "output_type": "execute_result"
    }
   ],
   "source": [
    "titanic_data.iloc[27]"
   ]
  },
  {
   "cell_type": "markdown",
   "metadata": {},
   "source": [
    "This code shows that the passenger in row 27 had 3 people that can be considered either sibling or spouse, 2 parents or children. What both passengers have in common is that their class is considered first class and they embarked from Southampton. This means that maybe class and/or where you embarked is the deciding factor for who can get a cabin and who cannot. I will use the code below to verify if this is true."
   ]
  },
  {
   "cell_type": "code",
   "execution_count": 11,
   "metadata": {
    "collapsed": true
   },
   "outputs": [],
   "source": [
    "class_and_cabin_data = titanic_data[['Pclass','Cabin']]"
   ]
  },
  {
   "cell_type": "code",
   "execution_count": 12,
   "metadata": {
    "scrolled": true
   },
   "outputs": [
    {
     "name": "stdout",
     "output_type": "stream",
     "text": [
      "     Pclass        Cabin\n",
      "0         3          NaN\n",
      "1         1          C85\n",
      "2         3          NaN\n",
      "3         1         C123\n",
      "4         3          NaN\n",
      "5         3          NaN\n",
      "6         1          E46\n",
      "7         3          NaN\n",
      "8         3          NaN\n",
      "9         2          NaN\n",
      "10        3           G6\n",
      "11        1         C103\n",
      "12        3          NaN\n",
      "13        3          NaN\n",
      "14        3          NaN\n",
      "15        2          NaN\n",
      "16        3          NaN\n",
      "17        2          NaN\n",
      "18        3          NaN\n",
      "19        3          NaN\n",
      "20        2          NaN\n",
      "21        2          D56\n",
      "22        3          NaN\n",
      "23        1           A6\n",
      "24        3          NaN\n",
      "25        3          NaN\n",
      "26        3          NaN\n",
      "27        1  C23 C25 C27\n",
      "28        3          NaN\n",
      "29        3          NaN\n",
      "..      ...          ...\n",
      "861       2          NaN\n",
      "862       1          D17\n",
      "863       3          NaN\n",
      "864       2          NaN\n",
      "865       2          NaN\n",
      "866       2          NaN\n",
      "867       1          A24\n",
      "868       3          NaN\n",
      "869       3          NaN\n",
      "870       3          NaN\n",
      "871       1          D35\n",
      "872       1  B51 B53 B55\n",
      "873       3          NaN\n",
      "874       2          NaN\n",
      "875       3          NaN\n",
      "876       3          NaN\n",
      "877       3          NaN\n",
      "878       3          NaN\n",
      "879       1          C50\n",
      "880       2          NaN\n",
      "881       3          NaN\n",
      "882       3          NaN\n",
      "883       2          NaN\n",
      "884       3          NaN\n",
      "885       3          NaN\n",
      "886       2          NaN\n",
      "887       1          B42\n",
      "888       3          NaN\n",
      "889       1         C148\n",
      "890       3          NaN\n",
      "\n",
      "[891 rows x 2 columns]\n"
     ]
    }
   ],
   "source": [
    "print(class_and_cabin_data)"
   ]
  },
  {
   "cell_type": "markdown",
   "metadata": {},
   "source": [
    "It can be seen from the code above that all classes have at least 1 person with a cabin. The final comparison I want to make is with where passengers embarked and if they have a cabin."
   ]
  },
  {
   "cell_type": "code",
   "execution_count": 13,
   "metadata": {
    "scrolled": false
   },
   "outputs": [
    {
     "name": "stdout",
     "output_type": "stream",
     "text": [
      "    Embarked        Cabin\n",
      "0          S          NaN\n",
      "1          C          C85\n",
      "2          S          NaN\n",
      "3          S         C123\n",
      "4          S          NaN\n",
      "5          Q          NaN\n",
      "6          S          E46\n",
      "7          S          NaN\n",
      "8          S          NaN\n",
      "9          C          NaN\n",
      "10         S           G6\n",
      "11         S         C103\n",
      "12         S          NaN\n",
      "13         S          NaN\n",
      "14         S          NaN\n",
      "15         S          NaN\n",
      "16         Q          NaN\n",
      "17         S          NaN\n",
      "18         S          NaN\n",
      "19         C          NaN\n",
      "20         S          NaN\n",
      "21         S          D56\n",
      "22         Q          NaN\n",
      "23         S           A6\n",
      "24         S          NaN\n",
      "25         S          NaN\n",
      "26         C          NaN\n",
      "27         S  C23 C25 C27\n",
      "28         Q          NaN\n",
      "29         S          NaN\n",
      "..       ...          ...\n",
      "861        S          NaN\n",
      "862        S          D17\n",
      "863        S          NaN\n",
      "864        S          NaN\n",
      "865        S          NaN\n",
      "866        C          NaN\n",
      "867        S          A24\n",
      "868        S          NaN\n",
      "869        S          NaN\n",
      "870        S          NaN\n",
      "871        S          D35\n",
      "872        S  B51 B53 B55\n",
      "873        S          NaN\n",
      "874        C          NaN\n",
      "875        C          NaN\n",
      "876        S          NaN\n",
      "877        S          NaN\n",
      "878        S          NaN\n",
      "879        C          C50\n",
      "880        S          NaN\n",
      "881        S          NaN\n",
      "882        S          NaN\n",
      "883        S          NaN\n",
      "884        S          NaN\n",
      "885        Q          NaN\n",
      "886        S          NaN\n",
      "887        S          B42\n",
      "888        S          NaN\n",
      "889        C         C148\n",
      "890        Q          NaN\n",
      "\n",
      "[891 rows x 2 columns]\n"
     ]
    }
   ],
   "source": [
    "embarked_and_cabin_data = titanic_data[['Embarked','Cabin']]\n",
    "print(embarked_and_cabin_data)"
   ]
  },
  {
   "cell_type": "markdown",
   "metadata": {},
   "source": [
    "The ports that embarked have at least one cabin except Queentown. I'm going to display only the passengers that embarked from Queentown and the cabin data to verify.\n"
   ]
  },
  {
   "cell_type": "code",
   "execution_count": 14,
   "metadata": {},
   "outputs": [
    {
     "data": {
      "text/html": [
       "<div>\n",
       "<style>\n",
       "    .dataframe thead tr:only-child th {\n",
       "        text-align: right;\n",
       "    }\n",
       "\n",
       "    .dataframe thead th {\n",
       "        text-align: left;\n",
       "    }\n",
       "\n",
       "    .dataframe tbody tr th {\n",
       "        vertical-align: top;\n",
       "    }\n",
       "</style>\n",
       "<table border=\"1\" class=\"dataframe\">\n",
       "  <thead>\n",
       "    <tr style=\"text-align: right;\">\n",
       "      <th></th>\n",
       "      <th>Embarked</th>\n",
       "      <th>Cabin</th>\n",
       "    </tr>\n",
       "  </thead>\n",
       "  <tbody>\n",
       "    <tr>\n",
       "      <th>5</th>\n",
       "      <td>Q</td>\n",
       "      <td>NaN</td>\n",
       "    </tr>\n",
       "    <tr>\n",
       "      <th>16</th>\n",
       "      <td>Q</td>\n",
       "      <td>NaN</td>\n",
       "    </tr>\n",
       "    <tr>\n",
       "      <th>22</th>\n",
       "      <td>Q</td>\n",
       "      <td>NaN</td>\n",
       "    </tr>\n",
       "    <tr>\n",
       "      <th>28</th>\n",
       "      <td>Q</td>\n",
       "      <td>NaN</td>\n",
       "    </tr>\n",
       "    <tr>\n",
       "      <th>32</th>\n",
       "      <td>Q</td>\n",
       "      <td>NaN</td>\n",
       "    </tr>\n",
       "    <tr>\n",
       "      <th>44</th>\n",
       "      <td>Q</td>\n",
       "      <td>NaN</td>\n",
       "    </tr>\n",
       "    <tr>\n",
       "      <th>46</th>\n",
       "      <td>Q</td>\n",
       "      <td>NaN</td>\n",
       "    </tr>\n",
       "    <tr>\n",
       "      <th>47</th>\n",
       "      <td>Q</td>\n",
       "      <td>NaN</td>\n",
       "    </tr>\n",
       "    <tr>\n",
       "      <th>82</th>\n",
       "      <td>Q</td>\n",
       "      <td>NaN</td>\n",
       "    </tr>\n",
       "    <tr>\n",
       "      <th>109</th>\n",
       "      <td>Q</td>\n",
       "      <td>NaN</td>\n",
       "    </tr>\n",
       "    <tr>\n",
       "      <th>116</th>\n",
       "      <td>Q</td>\n",
       "      <td>NaN</td>\n",
       "    </tr>\n",
       "    <tr>\n",
       "      <th>126</th>\n",
       "      <td>Q</td>\n",
       "      <td>NaN</td>\n",
       "    </tr>\n",
       "    <tr>\n",
       "      <th>143</th>\n",
       "      <td>Q</td>\n",
       "      <td>NaN</td>\n",
       "    </tr>\n",
       "    <tr>\n",
       "      <th>156</th>\n",
       "      <td>Q</td>\n",
       "      <td>NaN</td>\n",
       "    </tr>\n",
       "    <tr>\n",
       "      <th>171</th>\n",
       "      <td>Q</td>\n",
       "      <td>NaN</td>\n",
       "    </tr>\n",
       "    <tr>\n",
       "      <th>186</th>\n",
       "      <td>Q</td>\n",
       "      <td>NaN</td>\n",
       "    </tr>\n",
       "    <tr>\n",
       "      <th>188</th>\n",
       "      <td>Q</td>\n",
       "      <td>NaN</td>\n",
       "    </tr>\n",
       "    <tr>\n",
       "      <th>196</th>\n",
       "      <td>Q</td>\n",
       "      <td>NaN</td>\n",
       "    </tr>\n",
       "    <tr>\n",
       "      <th>198</th>\n",
       "      <td>Q</td>\n",
       "      <td>NaN</td>\n",
       "    </tr>\n",
       "    <tr>\n",
       "      <th>208</th>\n",
       "      <td>Q</td>\n",
       "      <td>NaN</td>\n",
       "    </tr>\n",
       "    <tr>\n",
       "      <th>214</th>\n",
       "      <td>Q</td>\n",
       "      <td>NaN</td>\n",
       "    </tr>\n",
       "    <tr>\n",
       "      <th>241</th>\n",
       "      <td>Q</td>\n",
       "      <td>NaN</td>\n",
       "    </tr>\n",
       "    <tr>\n",
       "      <th>245</th>\n",
       "      <td>Q</td>\n",
       "      <td>C78</td>\n",
       "    </tr>\n",
       "    <tr>\n",
       "      <th>260</th>\n",
       "      <td>Q</td>\n",
       "      <td>NaN</td>\n",
       "    </tr>\n",
       "    <tr>\n",
       "      <th>264</th>\n",
       "      <td>Q</td>\n",
       "      <td>NaN</td>\n",
       "    </tr>\n",
       "    <tr>\n",
       "      <th>274</th>\n",
       "      <td>Q</td>\n",
       "      <td>NaN</td>\n",
       "    </tr>\n",
       "    <tr>\n",
       "      <th>278</th>\n",
       "      <td>Q</td>\n",
       "      <td>NaN</td>\n",
       "    </tr>\n",
       "    <tr>\n",
       "      <th>280</th>\n",
       "      <td>Q</td>\n",
       "      <td>NaN</td>\n",
       "    </tr>\n",
       "    <tr>\n",
       "      <th>289</th>\n",
       "      <td>Q</td>\n",
       "      <td>NaN</td>\n",
       "    </tr>\n",
       "    <tr>\n",
       "      <th>300</th>\n",
       "      <td>Q</td>\n",
       "      <td>NaN</td>\n",
       "    </tr>\n",
       "    <tr>\n",
       "      <th>...</th>\n",
       "      <td>...</td>\n",
       "      <td>...</td>\n",
       "    </tr>\n",
       "    <tr>\n",
       "      <th>510</th>\n",
       "      <td>Q</td>\n",
       "      <td>NaN</td>\n",
       "    </tr>\n",
       "    <tr>\n",
       "      <th>517</th>\n",
       "      <td>Q</td>\n",
       "      <td>NaN</td>\n",
       "    </tr>\n",
       "    <tr>\n",
       "      <th>525</th>\n",
       "      <td>Q</td>\n",
       "      <td>NaN</td>\n",
       "    </tr>\n",
       "    <tr>\n",
       "      <th>552</th>\n",
       "      <td>Q</td>\n",
       "      <td>NaN</td>\n",
       "    </tr>\n",
       "    <tr>\n",
       "      <th>560</th>\n",
       "      <td>Q</td>\n",
       "      <td>NaN</td>\n",
       "    </tr>\n",
       "    <tr>\n",
       "      <th>573</th>\n",
       "      <td>Q</td>\n",
       "      <td>NaN</td>\n",
       "    </tr>\n",
       "    <tr>\n",
       "      <th>593</th>\n",
       "      <td>Q</td>\n",
       "      <td>NaN</td>\n",
       "    </tr>\n",
       "    <tr>\n",
       "      <th>612</th>\n",
       "      <td>Q</td>\n",
       "      <td>NaN</td>\n",
       "    </tr>\n",
       "    <tr>\n",
       "      <th>613</th>\n",
       "      <td>Q</td>\n",
       "      <td>NaN</td>\n",
       "    </tr>\n",
       "    <tr>\n",
       "      <th>626</th>\n",
       "      <td>Q</td>\n",
       "      <td>NaN</td>\n",
       "    </tr>\n",
       "    <tr>\n",
       "      <th>629</th>\n",
       "      <td>Q</td>\n",
       "      <td>NaN</td>\n",
       "    </tr>\n",
       "    <tr>\n",
       "      <th>653</th>\n",
       "      <td>Q</td>\n",
       "      <td>NaN</td>\n",
       "    </tr>\n",
       "    <tr>\n",
       "      <th>654</th>\n",
       "      <td>Q</td>\n",
       "      <td>NaN</td>\n",
       "    </tr>\n",
       "    <tr>\n",
       "      <th>657</th>\n",
       "      <td>Q</td>\n",
       "      <td>NaN</td>\n",
       "    </tr>\n",
       "    <tr>\n",
       "      <th>680</th>\n",
       "      <td>Q</td>\n",
       "      <td>NaN</td>\n",
       "    </tr>\n",
       "    <tr>\n",
       "      <th>697</th>\n",
       "      <td>Q</td>\n",
       "      <td>NaN</td>\n",
       "    </tr>\n",
       "    <tr>\n",
       "      <th>703</th>\n",
       "      <td>Q</td>\n",
       "      <td>NaN</td>\n",
       "    </tr>\n",
       "    <tr>\n",
       "      <th>718</th>\n",
       "      <td>Q</td>\n",
       "      <td>NaN</td>\n",
       "    </tr>\n",
       "    <tr>\n",
       "      <th>727</th>\n",
       "      <td>Q</td>\n",
       "      <td>NaN</td>\n",
       "    </tr>\n",
       "    <tr>\n",
       "      <th>749</th>\n",
       "      <td>Q</td>\n",
       "      <td>NaN</td>\n",
       "    </tr>\n",
       "    <tr>\n",
       "      <th>767</th>\n",
       "      <td>Q</td>\n",
       "      <td>NaN</td>\n",
       "    </tr>\n",
       "    <tr>\n",
       "      <th>768</th>\n",
       "      <td>Q</td>\n",
       "      <td>NaN</td>\n",
       "    </tr>\n",
       "    <tr>\n",
       "      <th>776</th>\n",
       "      <td>Q</td>\n",
       "      <td>F38</td>\n",
       "    </tr>\n",
       "    <tr>\n",
       "      <th>778</th>\n",
       "      <td>Q</td>\n",
       "      <td>NaN</td>\n",
       "    </tr>\n",
       "    <tr>\n",
       "      <th>787</th>\n",
       "      <td>Q</td>\n",
       "      <td>NaN</td>\n",
       "    </tr>\n",
       "    <tr>\n",
       "      <th>790</th>\n",
       "      <td>Q</td>\n",
       "      <td>NaN</td>\n",
       "    </tr>\n",
       "    <tr>\n",
       "      <th>825</th>\n",
       "      <td>Q</td>\n",
       "      <td>NaN</td>\n",
       "    </tr>\n",
       "    <tr>\n",
       "      <th>828</th>\n",
       "      <td>Q</td>\n",
       "      <td>NaN</td>\n",
       "    </tr>\n",
       "    <tr>\n",
       "      <th>885</th>\n",
       "      <td>Q</td>\n",
       "      <td>NaN</td>\n",
       "    </tr>\n",
       "    <tr>\n",
       "      <th>890</th>\n",
       "      <td>Q</td>\n",
       "      <td>NaN</td>\n",
       "    </tr>\n",
       "  </tbody>\n",
       "</table>\n",
       "<p>77 rows × 2 columns</p>\n",
       "</div>"
      ],
      "text/plain": [
       "    Embarked Cabin\n",
       "5          Q   NaN\n",
       "16         Q   NaN\n",
       "22         Q   NaN\n",
       "28         Q   NaN\n",
       "32         Q   NaN\n",
       "44         Q   NaN\n",
       "46         Q   NaN\n",
       "47         Q   NaN\n",
       "82         Q   NaN\n",
       "109        Q   NaN\n",
       "116        Q   NaN\n",
       "126        Q   NaN\n",
       "143        Q   NaN\n",
       "156        Q   NaN\n",
       "171        Q   NaN\n",
       "186        Q   NaN\n",
       "188        Q   NaN\n",
       "196        Q   NaN\n",
       "198        Q   NaN\n",
       "208        Q   NaN\n",
       "214        Q   NaN\n",
       "241        Q   NaN\n",
       "245        Q   C78\n",
       "260        Q   NaN\n",
       "264        Q   NaN\n",
       "274        Q   NaN\n",
       "278        Q   NaN\n",
       "280        Q   NaN\n",
       "289        Q   NaN\n",
       "300        Q   NaN\n",
       "..       ...   ...\n",
       "510        Q   NaN\n",
       "517        Q   NaN\n",
       "525        Q   NaN\n",
       "552        Q   NaN\n",
       "560        Q   NaN\n",
       "573        Q   NaN\n",
       "593        Q   NaN\n",
       "612        Q   NaN\n",
       "613        Q   NaN\n",
       "626        Q   NaN\n",
       "629        Q   NaN\n",
       "653        Q   NaN\n",
       "654        Q   NaN\n",
       "657        Q   NaN\n",
       "680        Q   NaN\n",
       "697        Q   NaN\n",
       "703        Q   NaN\n",
       "718        Q   NaN\n",
       "727        Q   NaN\n",
       "749        Q   NaN\n",
       "767        Q   NaN\n",
       "768        Q   NaN\n",
       "776        Q   F38\n",
       "778        Q   NaN\n",
       "787        Q   NaN\n",
       "790        Q   NaN\n",
       "825        Q   NaN\n",
       "828        Q   NaN\n",
       "885        Q   NaN\n",
       "890        Q   NaN\n",
       "\n",
       "[77 rows x 2 columns]"
      ]
     },
     "execution_count": 14,
     "metadata": {},
     "output_type": "execute_result"
    }
   ],
   "source": [
    "embarked_and_cabin_data[embarked_and_cabin_data['Embarked']=='Q']"
   ]
  },
  {
   "cell_type": "markdown",
   "metadata": {},
   "source": [
    "From the code above you can see two passengers with a cabin. I'm not able to find a correlation regarding passenger information and if they had a cabin. I can only infer that cabins were scarce which would explain why a majority of passengers did not stay in one. Now I will apply a change to age using `to_numeric`. This is to make sure its a float type."
   ]
  },
  {
   "cell_type": "code",
   "execution_count": 15,
   "metadata": {},
   "outputs": [
    {
     "name": "stdout",
     "output_type": "stream",
     "text": [
      "0      22.0\n",
      "1      38.0\n",
      "2      26.0\n",
      "3      35.0\n",
      "4      35.0\n",
      "5       NaN\n",
      "6      54.0\n",
      "7       2.0\n",
      "8      27.0\n",
      "9      14.0\n",
      "10      4.0\n",
      "11     58.0\n",
      "12     20.0\n",
      "13     39.0\n",
      "14     14.0\n",
      "15     55.0\n",
      "16      2.0\n",
      "17      NaN\n",
      "18     31.0\n",
      "19      NaN\n",
      "20     35.0\n",
      "21     34.0\n",
      "22     15.0\n",
      "23     28.0\n",
      "24      8.0\n",
      "25     38.0\n",
      "26      NaN\n",
      "27     19.0\n",
      "28      NaN\n",
      "29      NaN\n",
      "       ... \n",
      "861    21.0\n",
      "862    48.0\n",
      "863     NaN\n",
      "864    24.0\n",
      "865    42.0\n",
      "866    27.0\n",
      "867    31.0\n",
      "868     NaN\n",
      "869     4.0\n",
      "870    26.0\n",
      "871    47.0\n",
      "872    33.0\n",
      "873    47.0\n",
      "874    28.0\n",
      "875    15.0\n",
      "876    20.0\n",
      "877    19.0\n",
      "878     NaN\n",
      "879    56.0\n",
      "880    25.0\n",
      "881    33.0\n",
      "882    22.0\n",
      "883    28.0\n",
      "884    25.0\n",
      "885    39.0\n",
      "886    27.0\n",
      "887    19.0\n",
      "888     NaN\n",
      "889    26.0\n",
      "890    32.0\n",
      "Name: Age, Length: 891, dtype: float64\n"
     ]
    }
   ],
   "source": [
    "titanic_data['Age'] = titanic_data['Age'].apply(pd.to_numeric)\n",
    "print(titanic_data['Age'])"
   ]
  },
  {
   "cell_type": "markdown",
   "metadata": {},
   "source": [
    "Now that I'm sure the `Age` coulumn is indeed a float type, I will replace the missing values with the mean of the age column using `fillna()` function."
   ]
  },
  {
   "cell_type": "code",
   "execution_count": 16,
   "metadata": {},
   "outputs": [
    {
     "name": "stdout",
     "output_type": "stream",
     "text": [
      "0      22.000000\n",
      "1      38.000000\n",
      "2      26.000000\n",
      "3      35.000000\n",
      "4      35.000000\n",
      "5      29.699118\n",
      "6      54.000000\n",
      "7       2.000000\n",
      "8      27.000000\n",
      "9      14.000000\n",
      "10      4.000000\n",
      "11     58.000000\n",
      "12     20.000000\n",
      "13     39.000000\n",
      "14     14.000000\n",
      "15     55.000000\n",
      "16      2.000000\n",
      "17     29.699118\n",
      "18     31.000000\n",
      "19     29.699118\n",
      "20     35.000000\n",
      "21     34.000000\n",
      "22     15.000000\n",
      "23     28.000000\n",
      "24      8.000000\n",
      "25     38.000000\n",
      "26     29.699118\n",
      "27     19.000000\n",
      "28     29.699118\n",
      "29     29.699118\n",
      "         ...    \n",
      "861    21.000000\n",
      "862    48.000000\n",
      "863    29.699118\n",
      "864    24.000000\n",
      "865    42.000000\n",
      "866    27.000000\n",
      "867    31.000000\n",
      "868    29.699118\n",
      "869     4.000000\n",
      "870    26.000000\n",
      "871    47.000000\n",
      "872    33.000000\n",
      "873    47.000000\n",
      "874    28.000000\n",
      "875    15.000000\n",
      "876    20.000000\n",
      "877    19.000000\n",
      "878    29.699118\n",
      "879    56.000000\n",
      "880    25.000000\n",
      "881    33.000000\n",
      "882    22.000000\n",
      "883    28.000000\n",
      "884    25.000000\n",
      "885    39.000000\n",
      "886    27.000000\n",
      "887    19.000000\n",
      "888    29.699118\n",
      "889    26.000000\n",
      "890    32.000000\n",
      "Name: Age, Length: 891, dtype: float64\n"
     ]
    }
   ],
   "source": [
    "titanic_data['Age'] = titanic_data['Age'].fillna(titanic_data['Age'].mean())\n",
    "print(titanic_data['Age'])"
   ]
  },
  {
   "cell_type": "markdown",
   "metadata": {},
   "source": [
    "The age column now has its missing roles filled in with the mean of age column. Since I was unable to find a reasib the cabin values, I will replace the unknown or missing values with 'None'."
   ]
  },
  {
   "cell_type": "code",
   "execution_count": 17,
   "metadata": {
    "scrolled": true
   },
   "outputs": [
    {
     "name": "stdout",
     "output_type": "stream",
     "text": [
      "0             None\n",
      "1              C85\n",
      "2             None\n",
      "3             C123\n",
      "4             None\n",
      "5             None\n",
      "6              E46\n",
      "7             None\n",
      "8             None\n",
      "9             None\n",
      "10              G6\n",
      "11            C103\n",
      "12            None\n",
      "13            None\n",
      "14            None\n",
      "15            None\n",
      "16            None\n",
      "17            None\n",
      "18            None\n",
      "19            None\n",
      "20            None\n",
      "21             D56\n",
      "22            None\n",
      "23              A6\n",
      "24            None\n",
      "25            None\n",
      "26            None\n",
      "27     C23 C25 C27\n",
      "28            None\n",
      "29            None\n",
      "          ...     \n",
      "861           None\n",
      "862            D17\n",
      "863           None\n",
      "864           None\n",
      "865           None\n",
      "866           None\n",
      "867            A24\n",
      "868           None\n",
      "869           None\n",
      "870           None\n",
      "871            D35\n",
      "872    B51 B53 B55\n",
      "873           None\n",
      "874           None\n",
      "875           None\n",
      "876           None\n",
      "877           None\n",
      "878           None\n",
      "879            C50\n",
      "880           None\n",
      "881           None\n",
      "882           None\n",
      "883           None\n",
      "884           None\n",
      "885           None\n",
      "886           None\n",
      "887            B42\n",
      "888           None\n",
      "889           C148\n",
      "890           None\n",
      "Name: Cabin, Length: 891, dtype: object\n"
     ]
    }
   ],
   "source": [
    "titanic_data['Cabin'] = titanic_data['Cabin'].fillna('None')\n",
    "print(titanic_data['Cabin'])"
   ]
  },
  {
   "cell_type": "markdown",
   "metadata": {},
   "source": [
    " The final thing I want to do is convert the `Fare` column to float type and apply the `survived_conversion` to the `Survived` column of the titanic_data series. "
   ]
  },
  {
   "cell_type": "code",
   "execution_count": 18,
   "metadata": {
    "collapsed": true
   },
   "outputs": [],
   "source": [
    "titanic_data['Fare'] = titanic_data['Fare'].apply(float_conversion)"
   ]
  },
  {
   "cell_type": "code",
   "execution_count": 19,
   "metadata": {},
   "outputs": [
    {
     "name": "stdout",
     "output_type": "stream",
     "text": [
      "0          Died\n",
      "1      Survived\n",
      "2      Survived\n",
      "3      Survived\n",
      "4          Died\n",
      "5          Died\n",
      "6          Died\n",
      "7          Died\n",
      "8      Survived\n",
      "9      Survived\n",
      "10     Survived\n",
      "11     Survived\n",
      "12         Died\n",
      "13         Died\n",
      "14         Died\n",
      "15     Survived\n",
      "16         Died\n",
      "17     Survived\n",
      "18         Died\n",
      "19     Survived\n",
      "20         Died\n",
      "21     Survived\n",
      "22     Survived\n",
      "23     Survived\n",
      "24         Died\n",
      "25     Survived\n",
      "26         Died\n",
      "27         Died\n",
      "28     Survived\n",
      "29         Died\n",
      "         ...   \n",
      "861        Died\n",
      "862    Survived\n",
      "863        Died\n",
      "864        Died\n",
      "865    Survived\n",
      "866    Survived\n",
      "867        Died\n",
      "868        Died\n",
      "869    Survived\n",
      "870        Died\n",
      "871    Survived\n",
      "872        Died\n",
      "873        Died\n",
      "874    Survived\n",
      "875    Survived\n",
      "876        Died\n",
      "877        Died\n",
      "878        Died\n",
      "879    Survived\n",
      "880    Survived\n",
      "881        Died\n",
      "882        Died\n",
      "883        Died\n",
      "884        Died\n",
      "885        Died\n",
      "886        Died\n",
      "887    Survived\n",
      "888        Died\n",
      "889    Survived\n",
      "890        Died\n",
      "Name: Survived, Length: 891, dtype: object\n"
     ]
    }
   ],
   "source": [
    "titanic_data['Survived'] = titanic_data['Survived'].apply(survived_conversion)\n",
    "print(titanic_data['Survived'])"
   ]
  },
  {
   "cell_type": "markdown",
   "metadata": {},
   "source": [
    "I was not able to figure out why most cabin were missing. From what I see what the data it appears than cabins were scarce and couldn't hold everyone. This however is just my opinion and not certain, unfortunately this limits my analysis as if I do attempt to analyze the information on the missing cabins, it could be misleading or a false correlation. With the age values filled and an understanding that some of the values are empty. I'm ready to ask questions. My first question is which gender had a better chance of survival? "
   ]
  },
  {
   "cell_type": "code",
   "execution_count": 20,
   "metadata": {
    "collapsed": true
   },
   "outputs": [],
   "source": [
    "%matplotlib inline\n",
    "import matplotlib.pyplot as plt"
   ]
  },
  {
   "cell_type": "markdown",
   "metadata": {},
   "source": [
    "## Question 1: Which gender had a better chance of survival?"
   ]
  },
  {
   "cell_type": "markdown",
   "metadata": {},
   "source": [
    "In order to answer this question I will need to know how many male/female passengers are within this dataset. Then look for any differences between the number of male to the number of female passengers. I will start by using pandas `value_counts()` function on the `Sex` column of the titanic_data series I have. This will give me the number of male and female passengers seperately."
   ]
  },
  {
   "cell_type": "code",
   "execution_count": 21,
   "metadata": {
    "collapsed": true
   },
   "outputs": [],
   "source": [
    "gender_count = titanic_data['Sex'].value_counts()"
   ]
  },
  {
   "cell_type": "code",
   "execution_count": 22,
   "metadata": {},
   "outputs": [
    {
     "name": "stdout",
     "output_type": "stream",
     "text": [
      "male      577\n",
      "female    314\n",
      "Name: Sex, dtype: int64\n"
     ]
    }
   ],
   "source": [
    "print(gender_count)"
   ]
  },
  {
   "cell_type": "markdown",
   "metadata": {},
   "source": [
    "Now I know there is 577 male passengers within this series and 314 female passengers. I wish to know the percentage difference between male and female passengers. To do this I will create a function called `percentage_difference`. This function will take two numbers and calculate the percentage difference of them."
   ]
  },
  {
   "cell_type": "code",
   "execution_count": 23,
   "metadata": {
    "collapsed": true
   },
   "outputs": [],
   "source": [
    "def percentage_difference(n1,n2):\n",
    "    difference = n1 - n2\n",
    "    average = (n1+n2)/2\n",
    "    return (difference/average)*100"
   ]
  },
  {
   "cell_type": "code",
   "execution_count": 24,
   "metadata": {},
   "outputs": [
    {
     "name": "stdout",
     "output_type": "stream",
     "text": [
      "59.0347923681\n"
     ]
    }
   ],
   "source": [
    "print(percentage_difference(gender_count['male'],gender_count['female']))"
   ]
  },
  {
   "cell_type": "markdown",
   "metadata": {},
   "source": [
    "The code above shows that there is approximately 59% more male passengers than female. Now what I want to do is seperate the data by male and female. Then I want to get the data on who survived and who died."
   ]
  },
  {
   "cell_type": "code",
   "execution_count": 25,
   "metadata": {
    "collapsed": true
   },
   "outputs": [],
   "source": [
    "male_data = titanic_data[titanic_data['Sex'] == 'male']\n",
    "female_data = titanic_data[titanic_data['Sex'] == 'female']"
   ]
  },
  {
   "cell_type": "code",
   "execution_count": 26,
   "metadata": {
    "collapsed": true
   },
   "outputs": [],
   "source": [
    "male_survival_data = male_data['Survived'].value_counts()"
   ]
  },
  {
   "cell_type": "code",
   "execution_count": 27,
   "metadata": {},
   "outputs": [
    {
     "name": "stdout",
     "output_type": "stream",
     "text": [
      "Died        468\n",
      "Survived    109\n",
      "Name: Survived, dtype: int64\n"
     ]
    }
   ],
   "source": [
    "print(male_survival_data)"
   ]
  },
  {
   "cell_type": "code",
   "execution_count": 28,
   "metadata": {},
   "outputs": [
    {
     "name": "stdout",
     "output_type": "stream",
     "text": [
      "18.8908145581\n"
     ]
    }
   ],
   "source": [
    "print(male_survival_data['Survived']/(male_survival_data['Died']+male_survival_data['Survived']) * 100)"
   ]
  },
  {
   "cell_type": "markdown",
   "metadata": {},
   "source": [
    "From the code above you can see that 468 of the male passengers died and 109 of them survived which is approximately 18.9% of the passengers. Now I will do the same for female passengers"
   ]
  },
  {
   "cell_type": "code",
   "execution_count": 29,
   "metadata": {
    "collapsed": true
   },
   "outputs": [],
   "source": [
    "female_survival_data = female_data['Survived'].value_counts()"
   ]
  },
  {
   "cell_type": "code",
   "execution_count": 30,
   "metadata": {},
   "outputs": [
    {
     "name": "stdout",
     "output_type": "stream",
     "text": [
      "Survived    233\n",
      "Died         81\n",
      "Name: Survived, dtype: int64\n"
     ]
    }
   ],
   "source": [
    "print(female_survival_data)"
   ]
  },
  {
   "cell_type": "code",
   "execution_count": 31,
   "metadata": {},
   "outputs": [
    {
     "name": "stdout",
     "output_type": "stream",
     "text": [
      "74.2038216561\n"
     ]
    }
   ],
   "source": [
    "print(female_survival_data['Survived']/(female_survival_data['Died']+female_survival_data['Survived']) * 100)"
   ]
  },
  {
   "cell_type": "markdown",
   "metadata": {},
   "source": [
    "The numbers above show that 233 female passengers survived and 81 died. That means 74% survived out of the ones within this dataset."
   ]
  },
  {
   "cell_type": "code",
   "execution_count": 32,
   "metadata": {},
   "outputs": [
    {
     "name": "stdout",
     "output_type": "stream",
     "text": [
      "72.514619883\n"
     ]
    }
   ],
   "source": [
    "print(percentage_difference(female_survival_data['Survived'],male_survival_data['Survived'])) # Percentage difference of survivors"
   ]
  },
  {
   "cell_type": "markdown",
   "metadata": {},
   "source": [
    "From the code above you can see that although there were 59% more male passengers, approximately 72.5% more female passengers survived than males. Gender was not the only factor on who survived and who didn't. Age also had an effect. That brings up the next question, which age group had the better chance of survival?"
   ]
  },
  {
   "cell_type": "markdown",
   "metadata": {},
   "source": [
    "## Which Age Group Had the Better chance of survival"
   ]
  },
  {
   "cell_type": "markdown",
   "metadata": {},
   "source": [
    "Before approaching this question I want to get some more information on the age like the youngest passenger and the age of the oldest passenger. This will be done using the `describe()` function. It will show not only the min and max age but the mean and quartiles."
   ]
  },
  {
   "cell_type": "code",
   "execution_count": 33,
   "metadata": {},
   "outputs": [
    {
     "data": {
      "text/plain": [
       "count    891.000000\n",
       "mean      29.699118\n",
       "std       13.002015\n",
       "min        0.420000\n",
       "25%       22.000000\n",
       "50%       29.699118\n",
       "75%       35.000000\n",
       "max       80.000000\n",
       "Name: Age, dtype: float64"
      ]
     },
     "execution_count": 33,
     "metadata": {},
     "output_type": "execute_result"
    }
   ],
   "source": [
    "titanic_data['Age'].describe()"
   ]
  },
  {
   "cell_type": "markdown",
   "metadata": {},
   "source": [
    "The code above shows the youngest passenger being a baby and the oldest passenger being 80 years old."
   ]
  },
  {
   "cell_type": "code",
   "execution_count": 34,
   "metadata": {},
   "outputs": [
    {
     "data": {
      "text/plain": [
       "<matplotlib.text.Text at 0x11cad5666a0>"
      ]
     },
     "execution_count": 34,
     "metadata": {},
     "output_type": "execute_result"
    },
    {
     "data": {
      "image/png": "[encoded data removed]",
      "text/plain": [
       "<matplotlib.figure.Figure at 0x11cad4012e8>"
      ]
     },
     "metadata": {},
     "output_type": "display_data"
    }
   ],
   "source": [
    "titanic_data['Age'].plot(kind=\"hist\")\n",
    "plt.title('Frequency of Passengers by Age')\n",
    "plt.xlabel('Age')"
   ]
  },
  {
   "cell_type": "markdown",
   "metadata": {},
   "source": [
    "This graph shows that majority of passengers were between 25-30 years old. This is not a coincidence, as previously seen, the `Age` value had 177 missing values. These values are all equivalent to the mean of the Age column which estimates to 29. Now I'll seperate the ages into different groups. One for babies, one for pre-teens, one for teenagers, and finally one for adults. Then I will make comparsion based off the results"
   ]
  },
  {
   "cell_type": "code",
   "execution_count": 35,
   "metadata": {
    "collapsed": true
   },
   "outputs": [],
   "source": [
    "baby_data = titanic_data[titanic_data['Age']<1.1]"
   ]
  },
  {
   "cell_type": "code",
   "execution_count": 36,
   "metadata": {},
   "outputs": [
    {
     "data": {
      "text/html": [
       "<div>\n",
       "<style>\n",
       "    .dataframe thead tr:only-child th {\n",
       "        text-align: right;\n",
       "    }\n",
       "\n",
       "    .dataframe thead th {\n",
       "        text-align: left;\n",
       "    }\n",
       "\n",
       "    .dataframe tbody tr th {\n",
       "        vertical-align: top;\n",
       "    }\n",
       "</style>\n",
       "<table border=\"1\" class=\"dataframe\">\n",
       "  <thead>\n",
       "    <tr style=\"text-align: right;\">\n",
       "      <th></th>\n",
       "      <th>PassengerId</th>\n",
       "      <th>Survived</th>\n",
       "      <th>Pclass</th>\n",
       "      <th>Name</th>\n",
       "      <th>Sex</th>\n",
       "      <th>Age</th>\n",
       "      <th>SibSp</th>\n",
       "      <th>Parch</th>\n",
       "      <th>Ticket</th>\n",
       "      <th>Fare</th>\n",
       "      <th>Cabin</th>\n",
       "      <th>Embarked</th>\n",
       "    </tr>\n",
       "  </thead>\n",
       "  <tbody>\n",
       "    <tr>\n",
       "      <th>78</th>\n",
       "      <td>79</td>\n",
       "      <td>Survived</td>\n",
       "      <td>2</td>\n",
       "      <td>Caldwell, Master. Alden Gates</td>\n",
       "      <td>male</td>\n",
       "      <td>0.83</td>\n",
       "      <td>0</td>\n",
       "      <td>2</td>\n",
       "      <td>248738</td>\n",
       "      <td>29.0000</td>\n",
       "      <td>None</td>\n",
       "      <td>S</td>\n",
       "    </tr>\n",
       "    <tr>\n",
       "      <th>164</th>\n",
       "      <td>165</td>\n",
       "      <td>Died</td>\n",
       "      <td>3</td>\n",
       "      <td>Panula, Master. Eino Viljami</td>\n",
       "      <td>male</td>\n",
       "      <td>1.00</td>\n",
       "      <td>4</td>\n",
       "      <td>1</td>\n",
       "      <td>3101295</td>\n",
       "      <td>39.6875</td>\n",
       "      <td>None</td>\n",
       "      <td>S</td>\n",
       "    </tr>\n",
       "    <tr>\n",
       "      <th>172</th>\n",
       "      <td>173</td>\n",
       "      <td>Survived</td>\n",
       "      <td>3</td>\n",
       "      <td>Johnson, Miss. Eleanor Ileen</td>\n",
       "      <td>female</td>\n",
       "      <td>1.00</td>\n",
       "      <td>1</td>\n",
       "      <td>1</td>\n",
       "      <td>347742</td>\n",
       "      <td>11.1333</td>\n",
       "      <td>None</td>\n",
       "      <td>S</td>\n",
       "    </tr>\n",
       "    <tr>\n",
       "      <th>183</th>\n",
       "      <td>184</td>\n",
       "      <td>Survived</td>\n",
       "      <td>2</td>\n",
       "      <td>Becker, Master. Richard F</td>\n",
       "      <td>male</td>\n",
       "      <td>1.00</td>\n",
       "      <td>2</td>\n",
       "      <td>1</td>\n",
       "      <td>230136</td>\n",
       "      <td>39.0000</td>\n",
       "      <td>F4</td>\n",
       "      <td>S</td>\n",
       "    </tr>\n",
       "    <tr>\n",
       "      <th>305</th>\n",
       "      <td>306</td>\n",
       "      <td>Survived</td>\n",
       "      <td>1</td>\n",
       "      <td>Allison, Master. Hudson Trevor</td>\n",
       "      <td>male</td>\n",
       "      <td>0.92</td>\n",
       "      <td>1</td>\n",
       "      <td>2</td>\n",
       "      <td>113781</td>\n",
       "      <td>151.5500</td>\n",
       "      <td>C22 C26</td>\n",
       "      <td>S</td>\n",
       "    </tr>\n",
       "  </tbody>\n",
       "</table>\n",
       "</div>"
      ],
      "text/plain": [
       "     PassengerId  Survived  Pclass                            Name     Sex  \\\n",
       "78            79  Survived       2   Caldwell, Master. Alden Gates    male   \n",
       "164          165      Died       3    Panula, Master. Eino Viljami    male   \n",
       "172          173  Survived       3    Johnson, Miss. Eleanor Ileen  female   \n",
       "183          184  Survived       2       Becker, Master. Richard F    male   \n",
       "305          306  Survived       1  Allison, Master. Hudson Trevor    male   \n",
       "\n",
       "      Age  SibSp  Parch   Ticket      Fare    Cabin Embarked  \n",
       "78   0.83      0      2   248738   29.0000     None        S  \n",
       "164  1.00      4      1  3101295   39.6875     None        S  \n",
       "172  1.00      1      1   347742   11.1333     None        S  \n",
       "183  1.00      2      1   230136   39.0000       F4        S  \n",
       "305  0.92      1      2   113781  151.5500  C22 C26        S  "
      ]
     },
     "execution_count": 36,
     "metadata": {},
     "output_type": "execute_result"
    }
   ],
   "source": [
    "baby_data.head()"
   ]
  },
  {
   "cell_type": "code",
   "execution_count": 37,
   "metadata": {},
   "outputs": [
    {
     "name": "stdout",
     "output_type": "stream",
     "text": [
      "     PassengerId  Survived  Pclass                             Name     Sex  \\\n",
      "78            79  Survived       2    Caldwell, Master. Alden Gates    male   \n",
      "164          165      Died       3     Panula, Master. Eino Viljami    male   \n",
      "172          173  Survived       3     Johnson, Miss. Eleanor Ileen  female   \n",
      "183          184  Survived       2        Becker, Master. Richard F    male   \n",
      "305          306  Survived       1   Allison, Master. Hudson Trevor    male   \n",
      "381          382  Survived       3      Nakid, Miss. Maria (\"Mary\")  female   \n",
      "386          387      Died       3  Goodwin, Master. Sidney Leonard    male   \n",
      "469          470  Survived       3    Baclini, Miss. Helene Barbara  female   \n",
      "644          645  Survived       3           Baclini, Miss. Eugenie  female   \n",
      "755          756  Survived       2        Hamalainen, Master. Viljo    male   \n",
      "788          789  Survived       3       Dean, Master. Bertram Vere    male   \n",
      "803          804  Survived       3  Thomas, Master. Assad Alexander    male   \n",
      "827          828  Survived       2            Mallet, Master. Andre    male   \n",
      "831          832  Survived       2  Richards, Master. George Sibley    male   \n",
      "\n",
      "      Age  SibSp  Parch           Ticket      Fare    Cabin Embarked  \n",
      "78   0.83      0      2           248738   29.0000     None        S  \n",
      "164  1.00      4      1          3101295   39.6875     None        S  \n",
      "172  1.00      1      1           347742   11.1333     None        S  \n",
      "183  1.00      2      1           230136   39.0000       F4        S  \n",
      "305  0.92      1      2           113781  151.5500  C22 C26        S  \n",
      "381  1.00      0      2             2653   15.7417     None        C  \n",
      "386  1.00      5      2          CA 2144   46.9000     None        S  \n",
      "469  0.75      2      1             2666   19.2583     None        C  \n",
      "644  0.75      2      1             2666   19.2583     None        C  \n",
      "755  0.67      1      1           250649   14.5000     None        S  \n",
      "788  1.00      1      2        C.A. 2315   20.5750     None        S  \n",
      "803  0.42      0      1             2625    8.5167     None        C  \n",
      "827  1.00      0      2  S.C./PARIS 2079   37.0042     None        C  \n",
      "831  0.83      1      1            29106   18.7500     None        S  \n"
     ]
    }
   ],
   "source": [
    "print(baby_data)"
   ]
  },
  {
   "cell_type": "markdown",
   "metadata": {},
   "source": [
    "I started with making a new dataset based on titanic_data. This one was based on babies or people with ages betwee 0-1. It worked successfully and there are 14 baby passengers within this dataset. Now I will proceed to do the rest for the other age groups."
   ]
  },
  {
   "cell_type": "code",
   "execution_count": 38,
   "metadata": {
    "collapsed": true
   },
   "outputs": [],
   "source": [
    "pre_teen_data = titanic_data[(titanic_data['Age']>1.9) & (titanic_data['Age']<14)]\n"
   ]
  },
  {
   "cell_type": "code",
   "execution_count": 39,
   "metadata": {},
   "outputs": [
    {
     "data": {
      "text/html": [
       "<div>\n",
       "<style>\n",
       "    .dataframe thead tr:only-child th {\n",
       "        text-align: right;\n",
       "    }\n",
       "\n",
       "    .dataframe thead th {\n",
       "        text-align: left;\n",
       "    }\n",
       "\n",
       "    .dataframe tbody tr th {\n",
       "        vertical-align: top;\n",
       "    }\n",
       "</style>\n",
       "<table border=\"1\" class=\"dataframe\">\n",
       "  <thead>\n",
       "    <tr style=\"text-align: right;\">\n",
       "      <th></th>\n",
       "      <th>PassengerId</th>\n",
       "      <th>Survived</th>\n",
       "      <th>Pclass</th>\n",
       "      <th>Name</th>\n",
       "      <th>Sex</th>\n",
       "      <th>Age</th>\n",
       "      <th>SibSp</th>\n",
       "      <th>Parch</th>\n",
       "      <th>Ticket</th>\n",
       "      <th>Fare</th>\n",
       "      <th>Cabin</th>\n",
       "      <th>Embarked</th>\n",
       "    </tr>\n",
       "  </thead>\n",
       "  <tbody>\n",
       "    <tr>\n",
       "      <th>7</th>\n",
       "      <td>8</td>\n",
       "      <td>Died</td>\n",
       "      <td>3</td>\n",
       "      <td>Palsson, Master. Gosta Leonard</td>\n",
       "      <td>male</td>\n",
       "      <td>2.0</td>\n",
       "      <td>3</td>\n",
       "      <td>1</td>\n",
       "      <td>349909</td>\n",
       "      <td>21.0750</td>\n",
       "      <td>None</td>\n",
       "      <td>S</td>\n",
       "    </tr>\n",
       "    <tr>\n",
       "      <th>10</th>\n",
       "      <td>11</td>\n",
       "      <td>Survived</td>\n",
       "      <td>3</td>\n",
       "      <td>Sandstrom, Miss. Marguerite Rut</td>\n",
       "      <td>female</td>\n",
       "      <td>4.0</td>\n",
       "      <td>1</td>\n",
       "      <td>1</td>\n",
       "      <td>PP 9549</td>\n",
       "      <td>16.7000</td>\n",
       "      <td>G6</td>\n",
       "      <td>S</td>\n",
       "    </tr>\n",
       "    <tr>\n",
       "      <th>16</th>\n",
       "      <td>17</td>\n",
       "      <td>Died</td>\n",
       "      <td>3</td>\n",
       "      <td>Rice, Master. Eugene</td>\n",
       "      <td>male</td>\n",
       "      <td>2.0</td>\n",
       "      <td>4</td>\n",
       "      <td>1</td>\n",
       "      <td>382652</td>\n",
       "      <td>29.1250</td>\n",
       "      <td>None</td>\n",
       "      <td>Q</td>\n",
       "    </tr>\n",
       "    <tr>\n",
       "      <th>24</th>\n",
       "      <td>25</td>\n",
       "      <td>Died</td>\n",
       "      <td>3</td>\n",
       "      <td>Palsson, Miss. Torborg Danira</td>\n",
       "      <td>female</td>\n",
       "      <td>8.0</td>\n",
       "      <td>3</td>\n",
       "      <td>1</td>\n",
       "      <td>349909</td>\n",
       "      <td>21.0750</td>\n",
       "      <td>None</td>\n",
       "      <td>S</td>\n",
       "    </tr>\n",
       "    <tr>\n",
       "      <th>43</th>\n",
       "      <td>44</td>\n",
       "      <td>Survived</td>\n",
       "      <td>2</td>\n",
       "      <td>Laroche, Miss. Simonne Marie Anne Andree</td>\n",
       "      <td>female</td>\n",
       "      <td>3.0</td>\n",
       "      <td>1</td>\n",
       "      <td>2</td>\n",
       "      <td>SC/Paris 2123</td>\n",
       "      <td>41.5792</td>\n",
       "      <td>None</td>\n",
       "      <td>C</td>\n",
       "    </tr>\n",
       "  </tbody>\n",
       "</table>\n",
       "</div>"
      ],
      "text/plain": [
       "    PassengerId  Survived  Pclass                                      Name  \\\n",
       "7             8      Died       3            Palsson, Master. Gosta Leonard   \n",
       "10           11  Survived       3           Sandstrom, Miss. Marguerite Rut   \n",
       "16           17      Died       3                      Rice, Master. Eugene   \n",
       "24           25      Died       3             Palsson, Miss. Torborg Danira   \n",
       "43           44  Survived       2  Laroche, Miss. Simonne Marie Anne Andree   \n",
       "\n",
       "       Sex  Age  SibSp  Parch         Ticket     Fare Cabin Embarked  \n",
       "7     male  2.0      3      1         349909  21.0750  None        S  \n",
       "10  female  4.0      1      1        PP 9549  16.7000    G6        S  \n",
       "16    male  2.0      4      1         382652  29.1250  None        Q  \n",
       "24  female  8.0      3      1         349909  21.0750  None        S  \n",
       "43  female  3.0      1      2  SC/Paris 2123  41.5792  None        C  "
      ]
     },
     "execution_count": 39,
     "metadata": {},
     "output_type": "execute_result"
    }
   ],
   "source": [
    "pre_teen_data.head()"
   ]
  },
  {
   "cell_type": "markdown",
   "metadata": {},
   "source": [
    "The pre-teen dataset will consist of passengers from age 2-13."
   ]
  },
  {
   "cell_type": "code",
   "execution_count": 40,
   "metadata": {
    "collapsed": true
   },
   "outputs": [],
   "source": [
    "teen_data = titanic_data[(titanic_data['Age']>13) & (titanic_data['Age']<18)]"
   ]
  },
  {
   "cell_type": "code",
   "execution_count": 41,
   "metadata": {
    "collapsed": true
   },
   "outputs": [],
   "source": [
    "adult_data = titanic_data[(titanic_data['Age']>17)]"
   ]
  },
  {
   "cell_type": "markdown",
   "metadata": {},
   "source": [
    "The teen dataset will consist of ages 14-17 and the adult dataset will be of ages 18 and older. Now I will start to explore them."
   ]
  },
  {
   "cell_type": "code",
   "execution_count": 42,
   "metadata": {
    "collapsed": true
   },
   "outputs": [],
   "source": [
    "baby_survival_data = baby_data['Survived'].value_counts()"
   ]
  },
  {
   "cell_type": "code",
   "execution_count": 43,
   "metadata": {},
   "outputs": [
    {
     "data": {
      "text/plain": [
       "<matplotlib.text.Text at 0x11cad8d5978>"
      ]
     },
     "execution_count": 43,
     "metadata": {},
     "output_type": "execute_result"
    },
    {
     "data": {
      "image/png": "[encoded data removed]",
      "text/plain": [
       "<matplotlib.figure.Figure at 0x11cad8ab320>"
      ]
     },
     "metadata": {},
     "output_type": "display_data"
    }
   ],
   "source": [
    "baby_survival_data.plot(kind='bar')\n",
    "plt.title('Baby Survival Data')\n",
    "plt.xlabel('Survival Status')\n",
    "plt.ylabel('Number of Passengers')"
   ]
  },
  {
   "cell_type": "code",
   "execution_count": 44,
   "metadata": {},
   "outputs": [
    {
     "name": "stdout",
     "output_type": "stream",
     "text": [
      "Survived    12\n",
      "Died         2\n",
      "Name: Survived, dtype: int64\n"
     ]
    }
   ],
   "source": [
    "print(baby_survival_data)"
   ]
  },
  {
   "cell_type": "code",
   "execution_count": 45,
   "metadata": {},
   "outputs": [
    {
     "name": "stdout",
     "output_type": "stream",
     "text": [
      "85.7142857143\n"
     ]
    }
   ],
   "source": [
    "print(baby_survival_data['Survived']/(baby_survival_data['Survived']+baby_survival_data['Died'])*100)"
   ]
  },
  {
   "cell_type": "markdown",
   "metadata": {},
   "source": [
    "The data presented above shows that there were 14 baby passengers and out of them 12 survived (approximately 85.71%) and 2 died. Next I will explore the pre-teen dataset. "
   ]
  },
  {
   "cell_type": "code",
   "execution_count": 46,
   "metadata": {
    "collapsed": true
   },
   "outputs": [],
   "source": [
    "pre_teen_survival_data = pre_teen_data['Survived'].value_counts()"
   ]
  },
  {
   "cell_type": "code",
   "execution_count": 47,
   "metadata": {},
   "outputs": [
    {
     "data": {
      "text/plain": [
       "<matplotlib.text.Text at 0x11cad8c5e10>"
      ]
     },
     "execution_count": 47,
     "metadata": {},
     "output_type": "execute_result"
    },
    {
     "data": {
      "image/png": "[encoded data removed]",
      "text/plain": [
       "<matplotlib.figure.Figure at 0x11cad94e908>"
      ]
     },
     "metadata": {},
     "output_type": "display_data"
    }
   ],
   "source": [
    "pre_teen_survival_data.plot.bar()\n",
    "plt.title('Pre-Teen Survival Data')\n",
    "plt.xlabel('Survival Status')\n",
    "plt.ylabel('Number of Passengers')"
   ]
  },
  {
   "cell_type": "code",
   "execution_count": 48,
   "metadata": {},
   "outputs": [
    {
     "name": "stdout",
     "output_type": "stream",
     "text": [
      "Survived    30\n",
      "Died        27\n",
      "Name: Survived, dtype: int64\n"
     ]
    }
   ],
   "source": [
    "print(pre_teen_survival_data)"
   ]
  },
  {
   "cell_type": "code",
   "execution_count": 49,
   "metadata": {},
   "outputs": [
    {
     "name": "stdout",
     "output_type": "stream",
     "text": [
      "52.6315789474\n"
     ]
    }
   ],
   "source": [
    "print(pre_teen_survival_data['Survived']/(pre_teen_survival_data['Survived']+pre_teen_survival_data['Died'])*100)"
   ]
  },
  {
   "cell_type": "markdown",
   "metadata": {},
   "source": [
    "For the pre-teen passengers, 30 of the 57 survived. This account for approximately 52.63% of pre-teen passengers."
   ]
  },
  {
   "cell_type": "code",
   "execution_count": 50,
   "metadata": {
    "collapsed": true
   },
   "outputs": [],
   "source": [
    "teen_survival_data = teen_data['Survived'].value_counts()"
   ]
  },
  {
   "cell_type": "code",
   "execution_count": 51,
   "metadata": {},
   "outputs": [
    {
     "data": {
      "text/plain": [
       "<matplotlib.text.Text at 0x11cad981eb8>"
      ]
     },
     "execution_count": 51,
     "metadata": {},
     "output_type": "execute_result"
    },
    {
     "data": {
      "image/png": "[encoded data removed]",
      "text/plain": [
       "<matplotlib.figure.Figure at 0x11cad9eb4e0>"
      ]
     },
     "metadata": {},
     "output_type": "display_data"
    }
   ],
   "source": [
    "teen_survival_data.plot(kind='bar')\n",
    "plt.title('Teen Survival Data')\n",
    "plt.xlabel('Survival Status')\n",
    "plt.ylabel('Number of Passengers')"
   ]
  },
  {
   "cell_type": "code",
   "execution_count": 52,
   "metadata": {
    "scrolled": true
   },
   "outputs": [
    {
     "name": "stdout",
     "output_type": "stream",
     "text": [
      "Died        23\n",
      "Survived    19\n",
      "Name: Survived, dtype: int64\n"
     ]
    }
   ],
   "source": [
    "print(teen_survival_data)"
   ]
  },
  {
   "cell_type": "code",
   "execution_count": 53,
   "metadata": {
    "scrolled": true
   },
   "outputs": [
    {
     "name": "stdout",
     "output_type": "stream",
     "text": [
      "45.2380952381\n"
     ]
    }
   ],
   "source": [
    "print(teen_survival_data['Survived']/(teen_survival_data['Survived']+teen_survival_data['Died'])*100)"
   ]
  },
  {
   "cell_type": "markdown",
   "metadata": {},
   "source": [
    "The data above shows that approximately 45.24% of teen passengers survived. That's 23 of the 42."
   ]
  },
  {
   "cell_type": "code",
   "execution_count": 54,
   "metadata": {
    "collapsed": true
   },
   "outputs": [],
   "source": [
    "adult_survival_data = adult_data['Survived'].value_counts()"
   ]
  },
  {
   "cell_type": "code",
   "execution_count": 55,
   "metadata": {},
   "outputs": [
    {
     "data": {
      "text/plain": [
       "<matplotlib.text.Text at 0x11cada9d400>"
      ]
     },
     "execution_count": 55,
     "metadata": {},
     "output_type": "execute_result"
    },
    {
     "data": {
      "image/png": "[encoded data removed]",
      "text/plain": [
       "<matplotlib.figure.Figure at 0x11cada1bc18>"
      ]
     },
     "metadata": {},
     "output_type": "display_data"
    }
   ],
   "source": [
    "adult_survival_data.plot(kind='bar')\n",
    "plt.title('Adult Survival Data')\n",
    "plt.xlabel('Survival Status')\n",
    "plt.ylabel('Number of Passengers')"
   ]
  },
  {
   "cell_type": "code",
   "execution_count": 56,
   "metadata": {},
   "outputs": [
    {
     "name": "stdout",
     "output_type": "stream",
     "text": [
      "Died        497\n",
      "Survived    281\n",
      "Name: Survived, dtype: int64\n"
     ]
    }
   ],
   "source": [
    "print(adult_survival_data)"
   ]
  },
  {
   "cell_type": "code",
   "execution_count": 57,
   "metadata": {},
   "outputs": [
    {
     "name": "stdout",
     "output_type": "stream",
     "text": [
      "36.118251928\n"
     ]
    }
   ],
   "source": [
    "print(adult_survival_data['Survived']/(adult_survival_data['Survived']+adult_survival_data['Died'])*100)"
   ]
  },
  {
   "cell_type": "code",
   "execution_count": 58,
   "metadata": {},
   "outputs": [
    {
     "name": "stdout",
     "output_type": "stream",
     "text": [
      "192.929292929\n"
     ]
    }
   ],
   "source": [
    "print(percentage_difference(adult_survival_data['Survived']+adult_survival_data['Died'],baby_survival_data['Survived']+baby_survival_data['Died'])) # Percentage difference of survivors"
   ]
  },
  {
   "cell_type": "markdown",
   "metadata": {},
   "source": [
    "36% of the adult passengers survived, the graph and data above shows that 497 adult passengers died and 281 survived. It can be noted that babies had the best chance of survival. 85% of the babies on board survived compared to the adults were there were about 193% more of. It appears that the older you are the less chance you had to survive. The oldest being the adults of course had approximately 36% chance to survive."
   ]
  },
  {
   "cell_type": "markdown",
   "metadata": {
    "collapsed": true
   },
   "source": [
    "# Which social class had a better chance of survival?"
   ]
  },
  {
   "cell_type": "markdown",
   "metadata": {},
   "source": [
    "For this last question I will need information from the *Pclass* column of this dataset. To do this I'll split the data up by class, from there I will be able to perform some analysis."
   ]
  },
  {
   "cell_type": "code",
   "execution_count": 59,
   "metadata": {
    "collapsed": true
   },
   "outputs": [],
   "source": [
    "first_class_data = titanic_data[(titanic_data['Pclass'] == 1)]"
   ]
  },
  {
   "cell_type": "code",
   "execution_count": 60,
   "metadata": {},
   "outputs": [
    {
     "data": {
      "text/html": [
       "<div>\n",
       "<style>\n",
       "    .dataframe thead tr:only-child th {\n",
       "        text-align: right;\n",
       "    }\n",
       "\n",
       "    .dataframe thead th {\n",
       "        text-align: left;\n",
       "    }\n",
       "\n",
       "    .dataframe tbody tr th {\n",
       "        vertical-align: top;\n",
       "    }\n",
       "</style>\n",
       "<table border=\"1\" class=\"dataframe\">\n",
       "  <thead>\n",
       "    <tr style=\"text-align: right;\">\n",
       "      <th></th>\n",
       "      <th>PassengerId</th>\n",
       "      <th>Survived</th>\n",
       "      <th>Pclass</th>\n",
       "      <th>Name</th>\n",
       "      <th>Sex</th>\n",
       "      <th>Age</th>\n",
       "      <th>SibSp</th>\n",
       "      <th>Parch</th>\n",
       "      <th>Ticket</th>\n",
       "      <th>Fare</th>\n",
       "      <th>Cabin</th>\n",
       "      <th>Embarked</th>\n",
       "    </tr>\n",
       "  </thead>\n",
       "  <tbody>\n",
       "    <tr>\n",
       "      <th>1</th>\n",
       "      <td>2</td>\n",
       "      <td>Survived</td>\n",
       "      <td>1</td>\n",
       "      <td>Cumings, Mrs. John Bradley (Florence Briggs Th...</td>\n",
       "      <td>female</td>\n",
       "      <td>38.0</td>\n",
       "      <td>1</td>\n",
       "      <td>0</td>\n",
       "      <td>PC 17599</td>\n",
       "      <td>71.2833</td>\n",
       "      <td>C85</td>\n",
       "      <td>C</td>\n",
       "    </tr>\n",
       "    <tr>\n",
       "      <th>3</th>\n",
       "      <td>4</td>\n",
       "      <td>Survived</td>\n",
       "      <td>1</td>\n",
       "      <td>Futrelle, Mrs. Jacques Heath (Lily May Peel)</td>\n",
       "      <td>female</td>\n",
       "      <td>35.0</td>\n",
       "      <td>1</td>\n",
       "      <td>0</td>\n",
       "      <td>113803</td>\n",
       "      <td>53.1000</td>\n",
       "      <td>C123</td>\n",
       "      <td>S</td>\n",
       "    </tr>\n",
       "    <tr>\n",
       "      <th>6</th>\n",
       "      <td>7</td>\n",
       "      <td>Died</td>\n",
       "      <td>1</td>\n",
       "      <td>McCarthy, Mr. Timothy J</td>\n",
       "      <td>male</td>\n",
       "      <td>54.0</td>\n",
       "      <td>0</td>\n",
       "      <td>0</td>\n",
       "      <td>17463</td>\n",
       "      <td>51.8625</td>\n",
       "      <td>E46</td>\n",
       "      <td>S</td>\n",
       "    </tr>\n",
       "    <tr>\n",
       "      <th>11</th>\n",
       "      <td>12</td>\n",
       "      <td>Survived</td>\n",
       "      <td>1</td>\n",
       "      <td>Bonnell, Miss. Elizabeth</td>\n",
       "      <td>female</td>\n",
       "      <td>58.0</td>\n",
       "      <td>0</td>\n",
       "      <td>0</td>\n",
       "      <td>113783</td>\n",
       "      <td>26.5500</td>\n",
       "      <td>C103</td>\n",
       "      <td>S</td>\n",
       "    </tr>\n",
       "    <tr>\n",
       "      <th>23</th>\n",
       "      <td>24</td>\n",
       "      <td>Survived</td>\n",
       "      <td>1</td>\n",
       "      <td>Sloper, Mr. William Thompson</td>\n",
       "      <td>male</td>\n",
       "      <td>28.0</td>\n",
       "      <td>0</td>\n",
       "      <td>0</td>\n",
       "      <td>113788</td>\n",
       "      <td>35.5000</td>\n",
       "      <td>A6</td>\n",
       "      <td>S</td>\n",
       "    </tr>\n",
       "  </tbody>\n",
       "</table>\n",
       "</div>"
      ],
      "text/plain": [
       "    PassengerId  Survived  Pclass  \\\n",
       "1             2  Survived       1   \n",
       "3             4  Survived       1   \n",
       "6             7      Died       1   \n",
       "11           12  Survived       1   \n",
       "23           24  Survived       1   \n",
       "\n",
       "                                                 Name     Sex   Age  SibSp  \\\n",
       "1   Cumings, Mrs. John Bradley (Florence Briggs Th...  female  38.0      1   \n",
       "3        Futrelle, Mrs. Jacques Heath (Lily May Peel)  female  35.0      1   \n",
       "6                             McCarthy, Mr. Timothy J    male  54.0      0   \n",
       "11                           Bonnell, Miss. Elizabeth  female  58.0      0   \n",
       "23                       Sloper, Mr. William Thompson    male  28.0      0   \n",
       "\n",
       "    Parch    Ticket     Fare Cabin Embarked  \n",
       "1       0  PC 17599  71.2833   C85        C  \n",
       "3       0    113803  53.1000  C123        S  \n",
       "6       0     17463  51.8625   E46        S  \n",
       "11      0    113783  26.5500  C103        S  \n",
       "23      0    113788  35.5000    A6        S  "
      ]
     },
     "execution_count": 60,
     "metadata": {},
     "output_type": "execute_result"
    }
   ],
   "source": [
    "first_class_data.head()"
   ]
  },
  {
   "cell_type": "code",
   "execution_count": 61,
   "metadata": {
    "collapsed": true
   },
   "outputs": [],
   "source": [
    "first_class_survival_data = first_class_data['Survived'].value_counts()"
   ]
  },
  {
   "cell_type": "code",
   "execution_count": 62,
   "metadata": {},
   "outputs": [
    {
     "data": {
      "text/plain": [
       "<matplotlib.text.Text at 0x11cadab3e80>"
      ]
     },
     "execution_count": 62,
     "metadata": {},
     "output_type": "execute_result"
    },
    {
     "data": {
      "image/png": "[encoded data removed]",
      "text/plain": [
       "<matplotlib.figure.Figure at 0x11cada83198>"
      ]
     },
     "metadata": {},
     "output_type": "display_data"
    }
   ],
   "source": [
    "first_class_survival_data.plot(kind='bar')\n",
    "plt.title('First Class Survival Data')\n",
    "plt.xlabel('Survival Status')\n",
    "plt.ylabel('Passengers')"
   ]
  },
  {
   "cell_type": "code",
   "execution_count": 63,
   "metadata": {},
   "outputs": [
    {
     "name": "stdout",
     "output_type": "stream",
     "text": [
      "Survived    136\n",
      "Died         80\n",
      "Name: Survived, dtype: int64\n"
     ]
    }
   ],
   "source": [
    "print(first_class_survival_data)"
   ]
  },
  {
   "cell_type": "code",
   "execution_count": 64,
   "metadata": {},
   "outputs": [
    {
     "name": "stdout",
     "output_type": "stream",
     "text": [
      "62.962962963\n"
     ]
    }
   ],
   "source": [
    "print(first_class_survival_data['Survived']/(first_class_survival_data['Survived']+first_class_survival_data['Died'])*100)"
   ]
  },
  {
   "cell_type": "markdown",
   "metadata": {},
   "source": [
    "I started with the first class passengers. It can be noted that the 136 of the 216 survived, which is approximately 62.96%."
   ]
  },
  {
   "cell_type": "code",
   "execution_count": 65,
   "metadata": {},
   "outputs": [
    {
     "data": {
      "text/html": [
       "<div>\n",
       "<style>\n",
       "    .dataframe thead tr:only-child th {\n",
       "        text-align: right;\n",
       "    }\n",
       "\n",
       "    .dataframe thead th {\n",
       "        text-align: left;\n",
       "    }\n",
       "\n",
       "    .dataframe tbody tr th {\n",
       "        vertical-align: top;\n",
       "    }\n",
       "</style>\n",
       "<table border=\"1\" class=\"dataframe\">\n",
       "  <thead>\n",
       "    <tr style=\"text-align: right;\">\n",
       "      <th></th>\n",
       "      <th>PassengerId</th>\n",
       "      <th>Survived</th>\n",
       "      <th>Pclass</th>\n",
       "      <th>Name</th>\n",
       "      <th>Sex</th>\n",
       "      <th>Age</th>\n",
       "      <th>SibSp</th>\n",
       "      <th>Parch</th>\n",
       "      <th>Ticket</th>\n",
       "      <th>Fare</th>\n",
       "      <th>Cabin</th>\n",
       "      <th>Embarked</th>\n",
       "    </tr>\n",
       "  </thead>\n",
       "  <tbody>\n",
       "    <tr>\n",
       "      <th>9</th>\n",
       "      <td>10</td>\n",
       "      <td>Survived</td>\n",
       "      <td>2</td>\n",
       "      <td>Nasser, Mrs. Nicholas (Adele Achem)</td>\n",
       "      <td>female</td>\n",
       "      <td>14.000000</td>\n",
       "      <td>1</td>\n",
       "      <td>0</td>\n",
       "      <td>237736</td>\n",
       "      <td>30.0708</td>\n",
       "      <td>None</td>\n",
       "      <td>C</td>\n",
       "    </tr>\n",
       "    <tr>\n",
       "      <th>15</th>\n",
       "      <td>16</td>\n",
       "      <td>Survived</td>\n",
       "      <td>2</td>\n",
       "      <td>Hewlett, Mrs. (Mary D Kingcome)</td>\n",
       "      <td>female</td>\n",
       "      <td>55.000000</td>\n",
       "      <td>0</td>\n",
       "      <td>0</td>\n",
       "      <td>248706</td>\n",
       "      <td>16.0000</td>\n",
       "      <td>None</td>\n",
       "      <td>S</td>\n",
       "    </tr>\n",
       "    <tr>\n",
       "      <th>17</th>\n",
       "      <td>18</td>\n",
       "      <td>Survived</td>\n",
       "      <td>2</td>\n",
       "      <td>Williams, Mr. Charles Eugene</td>\n",
       "      <td>male</td>\n",
       "      <td>29.699118</td>\n",
       "      <td>0</td>\n",
       "      <td>0</td>\n",
       "      <td>244373</td>\n",
       "      <td>13.0000</td>\n",
       "      <td>None</td>\n",
       "      <td>S</td>\n",
       "    </tr>\n",
       "    <tr>\n",
       "      <th>20</th>\n",
       "      <td>21</td>\n",
       "      <td>Died</td>\n",
       "      <td>2</td>\n",
       "      <td>Fynney, Mr. Joseph J</td>\n",
       "      <td>male</td>\n",
       "      <td>35.000000</td>\n",
       "      <td>0</td>\n",
       "      <td>0</td>\n",
       "      <td>239865</td>\n",
       "      <td>26.0000</td>\n",
       "      <td>None</td>\n",
       "      <td>S</td>\n",
       "    </tr>\n",
       "    <tr>\n",
       "      <th>21</th>\n",
       "      <td>22</td>\n",
       "      <td>Survived</td>\n",
       "      <td>2</td>\n",
       "      <td>Beesley, Mr. Lawrence</td>\n",
       "      <td>male</td>\n",
       "      <td>34.000000</td>\n",
       "      <td>0</td>\n",
       "      <td>0</td>\n",
       "      <td>248698</td>\n",
       "      <td>13.0000</td>\n",
       "      <td>D56</td>\n",
       "      <td>S</td>\n",
       "    </tr>\n",
       "  </tbody>\n",
       "</table>\n",
       "</div>"
      ],
      "text/plain": [
       "    PassengerId  Survived  Pclass                                 Name  \\\n",
       "9            10  Survived       2  Nasser, Mrs. Nicholas (Adele Achem)   \n",
       "15           16  Survived       2     Hewlett, Mrs. (Mary D Kingcome)    \n",
       "17           18  Survived       2         Williams, Mr. Charles Eugene   \n",
       "20           21      Died       2                 Fynney, Mr. Joseph J   \n",
       "21           22  Survived       2                Beesley, Mr. Lawrence   \n",
       "\n",
       "       Sex        Age  SibSp  Parch  Ticket     Fare Cabin Embarked  \n",
       "9   female  14.000000      1      0  237736  30.0708  None        C  \n",
       "15  female  55.000000      0      0  248706  16.0000  None        S  \n",
       "17    male  29.699118      0      0  244373  13.0000  None        S  \n",
       "20    male  35.000000      0      0  239865  26.0000  None        S  \n",
       "21    male  34.000000      0      0  248698  13.0000   D56        S  "
      ]
     },
     "execution_count": 65,
     "metadata": {},
     "output_type": "execute_result"
    }
   ],
   "source": [
    "second_class_data = titanic_data[(titanic_data['Pclass'] == 2)]\n",
    "second_class_data.head()"
   ]
  },
  {
   "cell_type": "code",
   "execution_count": 66,
   "metadata": {
    "collapsed": true
   },
   "outputs": [],
   "source": [
    "second_class_survival_data = second_class_data['Survived'].value_counts()"
   ]
  },
  {
   "cell_type": "code",
   "execution_count": 67,
   "metadata": {},
   "outputs": [
    {
     "data": {
      "text/plain": [
       "<matplotlib.text.Text at 0x11cadba6ac8>"
      ]
     },
     "execution_count": 67,
     "metadata": {},
     "output_type": "execute_result"
    },
    {
     "data": {
      "image/png": "[encoded data removed]",
      "text/plain": [
       "<matplotlib.figure.Figure at 0x11cadb9e5f8>"
      ]
     },
     "metadata": {},
     "output_type": "display_data"
    }
   ],
   "source": [
    "second_class_survival_data.plot(kind='bar')\n",
    "plt.title('Second Class Survival Data')\n",
    "plt.xlabel('Survival Status')\n",
    "plt.ylabel('Number of Passengers')"
   ]
  },
  {
   "cell_type": "code",
   "execution_count": 68,
   "metadata": {},
   "outputs": [
    {
     "name": "stdout",
     "output_type": "stream",
     "text": [
      "Died        97\n",
      "Survived    87\n",
      "Name: Survived, dtype: int64\n"
     ]
    }
   ],
   "source": [
    "print(second_class_survival_data)"
   ]
  },
  {
   "cell_type": "code",
   "execution_count": 69,
   "metadata": {},
   "outputs": [
    {
     "name": "stdout",
     "output_type": "stream",
     "text": [
      "47.2826086957\n"
     ]
    }
   ],
   "source": [
    "print(second_class_survival_data['Survived']/(second_class_survival_data['Survived']+second_class_survival_data['Died'])*100)"
   ]
  },
  {
   "cell_type": "markdown",
   "metadata": {},
   "source": [
    "There are 184 second class passengers and out of them 97 survived. This accounts for 47.28%. This shows that there were more first class passengers and they also had more survivors than the second class passengers."
   ]
  },
  {
   "cell_type": "code",
   "execution_count": 70,
   "metadata": {},
   "outputs": [
    {
     "data": {
      "text/html": [
       "<div>\n",
       "<style>\n",
       "    .dataframe thead tr:only-child th {\n",
       "        text-align: right;\n",
       "    }\n",
       "\n",
       "    .dataframe thead th {\n",
       "        text-align: left;\n",
       "    }\n",
       "\n",
       "    .dataframe tbody tr th {\n",
       "        vertical-align: top;\n",
       "    }\n",
       "</style>\n",
       "<table border=\"1\" class=\"dataframe\">\n",
       "  <thead>\n",
       "    <tr style=\"text-align: right;\">\n",
       "      <th></th>\n",
       "      <th>PassengerId</th>\n",
       "      <th>Survived</th>\n",
       "      <th>Pclass</th>\n",
       "      <th>Name</th>\n",
       "      <th>Sex</th>\n",
       "      <th>Age</th>\n",
       "      <th>SibSp</th>\n",
       "      <th>Parch</th>\n",
       "      <th>Ticket</th>\n",
       "      <th>Fare</th>\n",
       "      <th>Cabin</th>\n",
       "      <th>Embarked</th>\n",
       "    </tr>\n",
       "  </thead>\n",
       "  <tbody>\n",
       "    <tr>\n",
       "      <th>0</th>\n",
       "      <td>1</td>\n",
       "      <td>Died</td>\n",
       "      <td>3</td>\n",
       "      <td>Braund, Mr. Owen Harris</td>\n",
       "      <td>male</td>\n",
       "      <td>22.000000</td>\n",
       "      <td>1</td>\n",
       "      <td>0</td>\n",
       "      <td>A/5 21171</td>\n",
       "      <td>7.2500</td>\n",
       "      <td>None</td>\n",
       "      <td>S</td>\n",
       "    </tr>\n",
       "    <tr>\n",
       "      <th>2</th>\n",
       "      <td>3</td>\n",
       "      <td>Survived</td>\n",
       "      <td>3</td>\n",
       "      <td>Heikkinen, Miss. Laina</td>\n",
       "      <td>female</td>\n",
       "      <td>26.000000</td>\n",
       "      <td>0</td>\n",
       "      <td>0</td>\n",
       "      <td>STON/O2. 3101282</td>\n",
       "      <td>7.9250</td>\n",
       "      <td>None</td>\n",
       "      <td>S</td>\n",
       "    </tr>\n",
       "    <tr>\n",
       "      <th>4</th>\n",
       "      <td>5</td>\n",
       "      <td>Died</td>\n",
       "      <td>3</td>\n",
       "      <td>Allen, Mr. William Henry</td>\n",
       "      <td>male</td>\n",
       "      <td>35.000000</td>\n",
       "      <td>0</td>\n",
       "      <td>0</td>\n",
       "      <td>373450</td>\n",
       "      <td>8.0500</td>\n",
       "      <td>None</td>\n",
       "      <td>S</td>\n",
       "    </tr>\n",
       "    <tr>\n",
       "      <th>5</th>\n",
       "      <td>6</td>\n",
       "      <td>Died</td>\n",
       "      <td>3</td>\n",
       "      <td>Moran, Mr. James</td>\n",
       "      <td>male</td>\n",
       "      <td>29.699118</td>\n",
       "      <td>0</td>\n",
       "      <td>0</td>\n",
       "      <td>330877</td>\n",
       "      <td>8.4583</td>\n",
       "      <td>None</td>\n",
       "      <td>Q</td>\n",
       "    </tr>\n",
       "    <tr>\n",
       "      <th>7</th>\n",
       "      <td>8</td>\n",
       "      <td>Died</td>\n",
       "      <td>3</td>\n",
       "      <td>Palsson, Master. Gosta Leonard</td>\n",
       "      <td>male</td>\n",
       "      <td>2.000000</td>\n",
       "      <td>3</td>\n",
       "      <td>1</td>\n",
       "      <td>349909</td>\n",
       "      <td>21.0750</td>\n",
       "      <td>None</td>\n",
       "      <td>S</td>\n",
       "    </tr>\n",
       "  </tbody>\n",
       "</table>\n",
       "</div>"
      ],
      "text/plain": [
       "   PassengerId  Survived  Pclass                            Name     Sex  \\\n",
       "0            1      Died       3         Braund, Mr. Owen Harris    male   \n",
       "2            3  Survived       3          Heikkinen, Miss. Laina  female   \n",
       "4            5      Died       3        Allen, Mr. William Henry    male   \n",
       "5            6      Died       3                Moran, Mr. James    male   \n",
       "7            8      Died       3  Palsson, Master. Gosta Leonard    male   \n",
       "\n",
       "         Age  SibSp  Parch            Ticket     Fare Cabin Embarked  \n",
       "0  22.000000      1      0         A/5 21171   7.2500  None        S  \n",
       "2  26.000000      0      0  STON/O2. 3101282   7.9250  None        S  \n",
       "4  35.000000      0      0            373450   8.0500  None        S  \n",
       "5  29.699118      0      0            330877   8.4583  None        Q  \n",
       "7   2.000000      3      1            349909  21.0750  None        S  "
      ]
     },
     "execution_count": 70,
     "metadata": {},
     "output_type": "execute_result"
    }
   ],
   "source": [
    "third_class_data = titanic_data[(titanic_data['Pclass'] == 3)]\n",
    "third_class_data.head()"
   ]
  },
  {
   "cell_type": "code",
   "execution_count": 71,
   "metadata": {
    "collapsed": true
   },
   "outputs": [],
   "source": [
    "third_class_survival_data = third_class_data['Survived'].value_counts()"
   ]
  },
  {
   "cell_type": "code",
   "execution_count": 72,
   "metadata": {},
   "outputs": [
    {
     "data": {
      "text/plain": [
       "<matplotlib.text.Text at 0x11caec28668>"
      ]
     },
     "execution_count": 72,
     "metadata": {},
     "output_type": "execute_result"
    },
    {
     "data": {
      "image/png": "[encoded data removed]",
      "text/plain": [
       "<matplotlib.figure.Figure at 0x11caec31400>"
      ]
     },
     "metadata": {},
     "output_type": "display_data"
    }
   ],
   "source": [
    "third_class_survival_data.plot(kind='bar')\n",
    "plt.title('Third Class Survival Data')\n",
    "plt.xlabel('Survival Status')\n",
    "plt.ylabel('Number of Passengers')"
   ]
  },
  {
   "cell_type": "code",
   "execution_count": 73,
   "metadata": {},
   "outputs": [
    {
     "name": "stdout",
     "output_type": "stream",
     "text": [
      "Died        372\n",
      "Survived    119\n",
      "Name: Survived, dtype: int64\n"
     ]
    }
   ],
   "source": [
    "print(third_class_survival_data)"
   ]
  },
  {
   "cell_type": "code",
   "execution_count": 74,
   "metadata": {},
   "outputs": [
    {
     "name": "stdout",
     "output_type": "stream",
     "text": [
      "24.2362525458\n"
     ]
    }
   ],
   "source": [
    "print(third_class_survival_data['Survived']/(third_class_survival_data['Survived']+third_class_survival_data['Died'])*100)"
   ]
  },
  {
   "cell_type": "markdown",
   "metadata": {},
   "source": [
    "The data on the third class passengers shows that they had the most passengers at 491 and the lowest percentage of survivors at approximately 24.24%. "
   ]
  },
  {
   "cell_type": "code",
   "execution_count": 75,
   "metadata": {
    "scrolled": true
   },
   "outputs": [
    {
     "data": {
      "text/plain": [
       "<matplotlib.text.Text at 0x11caeca4710>"
      ]
     },
     "execution_count": 75,
     "metadata": {},
     "output_type": "execute_result"
    },
    {
     "data": {
      "image/png": "[encoded data removed]",
      "text/plain": [
       "<matplotlib.figure.Figure at 0x11caecb3fd0>"
      ]
     },
     "metadata": {},
     "output_type": "display_data"
    }
   ],
   "source": [
    "titanic_data['Pclass'].value_counts().plot(kind='bar')\n",
    "plt.title('Passengers by Class')\n",
    "plt.xlabel('Economic Class')\n",
    "plt.ylabel('Number of Passengers')"
   ]
  },
  {
   "cell_type": "markdown",
   "metadata": {},
   "source": [
    "As you can see from the code above, although third class passengers were the majority of passengers on board, approximately 24% of them died. First class has the highest survival, while second class is the group with least amount of passengers, about 63% of first class passengers survived. The higher status you were, the better chance you had to survive. "
   ]
  },
  {
   "cell_type": "markdown",
   "metadata": {},
   "source": [
    "#  Conclusion "
   ]
  },
  {
   "cell_type": "markdown",
   "metadata": {},
   "source": [
    "<p>To conclude, in regards to which to gender had the greatest chance of survival, male passengers were the majority having 59% more passengers than female, yet approximately 72.5% more female passengers survived than males. From this one could infer that female passengers had a greater chance of survival than male passengers. This could be because in emergency situations for survival, women and children are the first priority. This could also be said for the question which age group had the greatest chance to survive. The baby age group had approximately 85.71% survivors. It was also seen that the older the age group, the lower the percentage of survivors within that group. As for the last question, \"Which class had the greatest chance of survival?\". The higher your economic class, the greater chance you had of surviving. Tragically, third class passengers were the majority at 491 passengers, however they had a lower chance to survive than the second and first class passengers.</p>\n",
    "<p>    It is very important to note that just because the data and statistics shown here correlate to one point does not make it a direct factor, or a certain truth. The reason being this is only a sample of all the Titanic passengers. According to the [Encyclopedia Titanica](http://www.encyclopedia-titanica.org/manifest.php?q=1), there were 2,249 people on board the Titanic. The dataset I was performing analysis with contained 891 passengers. Another thing is I could not perform statistical testing as I'd like to with the data presented. The reason being the ages value that I filled in with the mean of the age created an outlier for the age column. The downsides to this is that the sample data that I have worked with may not be representative of the population as a whole. </p>"
   ]
  }
 ],
 "metadata": {
  "kernelspec": {
   "display_name": "Python 3",
   "language": "python",
   "name": "python3"
  },
  "language_info": {
   "codemirror_mode": {
    "name": "ipython",
    "version": 3
   },
   "file_extension": ".py",
   "mimetype": "text/x-python",
   "name": "python",
   "nbconvert_exporter": "python",
   "pygments_lexer": "ipython3",
   "version": "3.6.2"
  }
 },
 "nbformat": 4,
 "nbformat_minor": 2
}
